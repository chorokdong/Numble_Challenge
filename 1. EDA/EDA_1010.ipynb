{
  "nbformat": 4,
  "nbformat_minor": 0,
  "metadata": {
    "colab": {
      "provenance": [],
      "collapsed_sections": [],
      "toc_visible": true
    },
    "kernelspec": {
      "name": "python3",
      "display_name": "Python 3"
    },
    "language_info": {
      "name": "python"
    }
  },
  "cells": [
    {
      "cell_type": "markdown",
      "source": [
        "# 액티브 6번이랑 2번 다시 확인"
      ],
      "metadata": {
        "id": "zsNUYOrLzY6p"
      }
    },
    {
      "cell_type": "markdown",
      "source": [
        "- 산업코드차수가 10으로 표기된 것으로 보아 한국표준산업코드 10차를 기반으로 한 것 같음  \n",
        "하지만 코드 데이터가 일치하지 않는 데이터들이 다수 있는것으로 확인됨"
      ],
      "metadata": {
        "id": "1per3e9pUNdC"
      }
    },
    {
      "cell_type": "code",
      "execution_count": 1,
      "metadata": {
        "id": "m-XlZ-ubovsi"
      },
      "outputs": [],
      "source": [
        "import pandas as pd \n",
        "import numpy as np \n",
        "import matplotlib.pyplot as plt \n",
        "import seaborn as sns \n",
        "from datetime import date, datetime, timedelta\n",
        "pd.set_option('display.max_columns', None)\n",
        "import warnings\n",
        "warnings.filterwarnings('ignore')"
      ]
    },
    {
      "cell_type": "markdown",
      "source": [
        "---\n",
        "# 데이터 불러오기\n",
        "---"
      ],
      "metadata": {
        "id": "ncFiWsqyq-QZ"
      }
    },
    {
      "cell_type": "code",
      "source": [
        "layout = pd.read_excel('/content/drive/MyDrive/Numble_Challenge/data/넘블 챌린지 개방데이터 레이아웃.xlsx')\n",
        "codezip = pd.read_excel('/content/drive/MyDrive/Numble_Challenge/data/넘블 챌린지 개방데이터 코드집.xlsx')\n",
        "\n",
        "# 액티브는 sheet 3개 (기업개요_외감 / 기업개요 / 휴폐업이력) \n",
        "active_ex = pd.read_excel('/content/drive/MyDrive/Numble_Challenge/data/액티브 중소법인 재무보유.xlsx', sheet_name = 0)\n",
        "active_normal = pd.read_excel('/content/drive/MyDrive/Numble_Challenge/data/액티브 중소법인 재무보유.xlsx', sheet_name = 1)\n",
        "active_history = pd.read_excel('/content/drive/MyDrive/Numble_Challenge/data/액티브 중소법인 재무보유.xlsx', sheet_name = 2)\n",
        "\n",
        "# 휴페업은 sheet 2개 (기업개요 / 휴폐업이력)\n",
        "close_normal = pd.read_excel('/content/drive/MyDrive/Numble_Challenge/data/휴폐업 중소법인 재무보유.xlsx',sheet_name = 0)\n",
        "close_history = pd.read_excel('/content/drive/MyDrive/Numble_Challenge/data/휴폐업 중소법인 재무보유.xlsx',sheet_name = 1)\n",
        "\n",
        "finance = pd.read_table('/content/drive/MyDrive/Numble_Challenge/data/재무데이터.txt', encoding = 'CP949')"
      ],
      "metadata": {
        "id": "OD-Ssgivs1UC"
      },
      "execution_count": 2,
      "outputs": []
    },
    {
      "cell_type": "code",
      "source": [
        "print('#'*60)\n",
        "print('액티브 중소법인 \"기업개요_외감\" 데이터셋 크기 :',active_ex.shape)\n",
        "print('액티브 중소법인 \"기업개요\" 데이터셋 크기 :',active_normal.shape)\n",
        "print('액티브 중소법인 \"휴폐업이력\" 데이터셋 크기 :',active_history.shape)\n",
        "print('#'*60)\n",
        "print('휴폐업 중소법인 \"기업개요\" 데이터셋 크기 :',close_normal.shape)\n",
        "print('휴폐업 중소법인 \"휴폐업이력\" 데이터셋 크기 :',close_history.shape)\n",
        "print('#'*60)\n",
        "print('재무 데이터셋 크기: ',finance.shape)\n",
        "print('#'*60)"
      ],
      "metadata": {
        "colab": {
          "base_uri": "https://localhost:8080/"
        },
        "id": "qlMGb3ze34_H",
        "outputId": "f350370c-5e83-4265-a165-99df5ce66a2e"
      },
      "execution_count": 3,
      "outputs": [
        {
          "output_type": "stream",
          "name": "stdout",
          "text": [
            "############################################################\n",
            "액티브 중소법인 \"기업개요_외감\" 데이터셋 크기 : (28982, 28)\n",
            "액티브 중소법인 \"기업개요\" 데이터셋 크기 : (198651, 31)\n",
            "액티브 중소법인 \"휴폐업이력\" 데이터셋 크기 : (4827, 5)\n",
            "############################################################\n",
            "휴폐업 중소법인 \"기업개요\" 데이터셋 크기 : (6739, 28)\n",
            "휴폐업 중소법인 \"휴폐업이력\" 데이터셋 크기 : (6840, 5)\n",
            "############################################################\n",
            "재무 데이터셋 크기:  (109142, 46)\n",
            "############################################################\n"
          ]
        }
      ]
    },
    {
      "cell_type": "markdown",
      "source": [
        "----\n",
        "# 액티브 중소법인 데이터 살펴보기\n",
        "----"
      ],
      "metadata": {
        "id": "kD0pHZ9RoMvG"
      }
    },
    {
      "cell_type": "markdown",
      "source": [
        "---\n",
        "### 1. 컬럼명 한글로 변경\n",
        "---"
      ],
      "metadata": {
        "id": "tgB-YbpasDOw"
      }
    },
    {
      "cell_type": "code",
      "source": [
        "# nan 값 제외\n",
        "eng = layout['영문칼럼명'].tolist()\n",
        "len(eng)\n",
        "kor = layout['한글칼럼명'].tolist()\n",
        "len(kor)"
      ],
      "metadata": {
        "colab": {
          "base_uri": "https://localhost:8080/"
        },
        "id": "Klo7uxW93xng",
        "outputId": "435a9b2f-3c47-4d10-eeb3-d7efd99191d2"
      },
      "execution_count": 4,
      "outputs": [
        {
          "output_type": "execute_result",
          "data": {
            "text/plain": [
              "43"
            ]
          },
          "metadata": {},
          "execution_count": 4
        }
      ]
    },
    {
      "cell_type": "code",
      "source": [
        "#CMP_NM1로 설정된 컬럼 수정\n",
        "print('#'*100)\n",
        "print(active_ex.columns)\n",
        "print(active_normal.columns)\n",
        "print(active_ex.shape)\n",
        "print(active_normal.shape)\n",
        "print('#'*100)\n",
        "active_ex.rename(columns={'CMP_NM1':'CMP_NM'}, inplace=True)\n",
        "del active_normal['CMP_NM1']\n",
        "print('#'*100)\n",
        "print(active_ex.columns)\n",
        "print(active_normal.columns)\n",
        "print(active_ex.shape)\n",
        "print(active_normal.shape)\n",
        "print('#'*100)"
      ],
      "metadata": {
        "id": "V2dfQUA7sfcH"
      },
      "execution_count": null,
      "outputs": []
    },
    {
      "cell_type": "code",
      "source": [
        "# 컬럼명이 일치하는 인덱스 확인\n",
        "name_ex = active_ex.columns.tolist()\n",
        "\n",
        "active_ex_list = []\n",
        "for i in name_ex:\n",
        "  try:\n",
        "    active_ex_list.append(eng.index(i))\n",
        "  except:\n",
        "    pass\n",
        "\n",
        "print(active_ex_list)\n",
        "print(len(active_ex_list))\n",
        "  \n",
        "# 한글로 컬럼명 변경\n",
        "for i in active_ex_list:\n",
        "  active_ex = active_ex.rename(columns={eng[i] : kor[i]})\n",
        "\n",
        "print(active_ex.columns)"
      ],
      "metadata": {
        "colab": {
          "base_uri": "https://localhost:8080/"
        },
        "id": "ofrb6K7JraoP",
        "outputId": "fcf1f90b-2d44-4733-90a6-e771aa48fbbf"
      },
      "execution_count": 6,
      "outputs": [
        {
          "output_type": "stream",
          "name": "stdout",
          "text": [
            "[0, 1, 2, 3, 4, 5, 6, 7, 8, 9, 10, 11, 12, 13, 14, 15, 16, 17, 18, 19, 20, 21, 22, 23, 24, 25, 26, 27]\n",
            "28\n",
            "Index(['사업자등록번호', '기업접두명', '기업명', '기업접미명', '기업영문명', '업종', '기업규모',\n",
            "       '공기업구분 1.공기업 2.일반기업', '개인법인구분 1.법인 2.개인', '본점지점구분 1.본점 2.지점',\n",
            "       '국외투자법인여부', '벤처기업여부', '상장코드', '산업코드차수', '산업코드1', '산업코드2', '산업코드3',\n",
            "       '공공기관유형', '중견기업보호여부', '본점기업코드', '설립일자', '설립구분', '상장일자', '주요사업내용', '국가명',\n",
            "       '홈페이지URL', '대표자명', '직원수'],\n",
            "      dtype='object')\n"
          ]
        }
      ]
    },
    {
      "cell_type": "code",
      "source": [
        "# 컬럼명이 일치하는 인덱스 확인\n",
        "name_normal = active_normal.columns.tolist()\n",
        "\n",
        "active_normal_list = []\n",
        "for i in name_normal:\n",
        "  try:\n",
        "    active_normal_list.append(eng.index(i))\n",
        "  except:\n",
        "    pass\n",
        "\n",
        "print(active_normal_list)\n",
        "print(len(active_normal_list))\n",
        "  \n",
        "# 한글로 컬럼명 변경\n",
        "for i in active_normal_list:\n",
        "  active_normal = active_normal.rename(columns={eng[i] : kor[i]})\n",
        "\n",
        "print(active_normal.columns)"
      ],
      "metadata": {
        "colab": {
          "base_uri": "https://localhost:8080/"
        },
        "id": "hBa9XVe4vJ6D",
        "outputId": "71171bfb-b256-40cc-c3bb-73983906054d"
      },
      "execution_count": 7,
      "outputs": [
        {
          "output_type": "stream",
          "name": "stdout",
          "text": [
            "[0, 1, 2, 3, 4, 5, 6, 7, 8, 9, 10, 11, 12, 13, 14, 15, 16, 17, 18, 19, 20, 21, 22, 23, 24, 25, 26, 27]\n",
            "28\n",
            "Index(['사업자등록번호', '기업접두명', '기업명', '기업접미명', '기업영문명', '업종', 'CMP_TYP', '기업규모',\n",
            "       '공기업구분 1.공기업 2.일반기업', '개인법인구분 1.법인 2.개인', '본점지점구분 1.본점 2.지점',\n",
            "       '국외투자법인여부', '벤처기업여부', '상장코드', '산업코드차수', '산업코드1', '산업코드2', '산업코드3',\n",
            "       '공공기관유형', '중견기업보호여부', 'TAXN_TYP', '본점기업코드', '설립일자', '설립구분', '상장일자',\n",
            "       '주요사업내용', '국가명', '홈페이지URL', '대표자명', '직원수'],\n",
            "      dtype='object')\n"
          ]
        }
      ]
    },
    {
      "cell_type": "markdown",
      "source": [
        "---\n",
        "### 2. 두 데이터 중 컬럼 다른 것은 무엇인가?\n",
        "---\n",
        "    'CMP_TYP', 'TAXN_TYP' 가 차이가 존재\n",
        "\n",
        "    CMP_TYP = 기업형태\n",
        "    TAXN_TYP = 과세 유형\n",
        "    "
      ],
      "metadata": {
        "id": "-NGU6vqe2DRV"
      }
    },
    {
      "cell_type": "code",
      "source": [
        "a = []\n",
        "for i in active_ex.columns:\n",
        "  a.append(i)\n",
        "b = []\n",
        "for j in active_normal.columns:\n",
        "  b.append(j)\n",
        "print(len(a))\n",
        "print(len(b))\n",
        "\n",
        "c = []\n",
        "for i in range(len(b)):\n",
        "  if b[i] not in a:\n",
        "    c.append(b[i])\n",
        "print(c)"
      ],
      "metadata": {
        "colab": {
          "base_uri": "https://localhost:8080/"
        },
        "id": "y_CJjdlWw34f",
        "outputId": "2d0d6913-7bf5-4175-b32f-3db514bcbb40"
      },
      "execution_count": 8,
      "outputs": [
        {
          "output_type": "stream",
          "name": "stdout",
          "text": [
            "28\n",
            "30\n",
            "['CMP_TYP', 'TAXN_TYP']\n"
          ]
        }
      ]
    },
    {
      "cell_type": "markdown",
      "source": [
        "---\n",
        "### 3. 기업개요_외감에 있는 기업들이 기업개요에 포함이 되는가?\n",
        "---\n",
        "    불일치하는 데이터는 없음   \n",
        "    즉 모두 포함이 되어 있음\n"
      ],
      "metadata": {
        "id": "7tC9S1PA2Gb3"
      }
    },
    {
      "cell_type": "code",
      "source": [
        "ex_list = active_ex['사업자등록번호'].tolist()\n",
        "normal_list = active_normal['사업자등록번호'].tolist()\n",
        "print('액티브 기업개요_외감의 중소기업 수:',len(ex_list))\n",
        "print('액티브 기업개요의 중소기업 수:',len(normal_list))\n",
        "\n",
        "\n",
        "inconsistent = []\n",
        "for i in range(len(ex_list)):\n",
        "  if ex_list[i] not in normal_list:\n",
        "    inconsistent.append(ex_list[i])\n",
        "\n",
        "print('불일치하는 데이터 수:',len(inconsistent))"
      ],
      "metadata": {
        "colab": {
          "base_uri": "https://localhost:8080/"
        },
        "id": "gsdSfwDr0t8n",
        "outputId": "28fbc947-36a7-46f2-f975-5d78d08da41b"
      },
      "execution_count": 9,
      "outputs": [
        {
          "output_type": "stream",
          "name": "stdout",
          "text": [
            "액티브 기업개요_외감의 중소기업 수: 28982\n",
            "액티브 기업개요의 중소기업 수: 198651\n",
            "불일치하는 데이터 수: 0\n"
          ]
        }
      ]
    },
    {
      "cell_type": "markdown",
      "source": [
        "---\n",
        "### 4. 그렇다면 내용도 일치 하는가?\n",
        "---\n",
        "    1차 적으로 확인 하니 완벽하게 일치하지 않으며 약 2천여개만 내용까지 일치"
      ],
      "metadata": {
        "id": "xODsEVg22v_E"
      }
    },
    {
      "cell_type": "code",
      "source": [
        "test = active_normal.copy()\n",
        "del test['CMP_TYP'], test['TAXN_TYP']\n",
        "test.shape"
      ],
      "metadata": {
        "colab": {
          "base_uri": "https://localhost:8080/"
        },
        "id": "E-g0yDX329ZD",
        "outputId": "af3084a2-1cdf-4513-ce70-919784336197"
      },
      "execution_count": 10,
      "outputs": [
        {
          "output_type": "execute_result",
          "data": {
            "text/plain": [
              "(198651, 28)"
            ]
          },
          "metadata": {},
          "execution_count": 10
        }
      ]
    },
    {
      "cell_type": "code",
      "source": [
        "print(active_ex.duplicated().sum())\n",
        "print(test.duplicated().sum())"
      ],
      "metadata": {
        "colab": {
          "base_uri": "https://localhost:8080/"
        },
        "id": "5aoiPDWp29XU",
        "outputId": "3e9ce4fb-88e5-465c-c9b4-9b7d718d440d"
      },
      "execution_count": 11,
      "outputs": [
        {
          "output_type": "stream",
          "name": "stdout",
          "text": [
            "0\n",
            "0\n"
          ]
        }
      ]
    },
    {
      "cell_type": "code",
      "source": [
        "print('#'*60)\n",
        "print('합치기 전 기업개요_외감 사이즈:',len(active_ex))\n",
        "print('합치기 전 기업개요 사이즈:',len(test))\n",
        "print('#'*60)\n",
        "test_concat = pd.concat([active_ex,test], ignore_index = True)\n",
        "print('합친 후 총 사이즈:',len(test_concat))\n",
        "print('#'*60)\n",
        "print('중복 사이즈:', test_concat.duplicated().sum())\n",
        "test_concat = test_concat.drop_duplicates()\n",
        "print('중복제거 후 총 사이즈:',len(test_concat))\n",
        "print('#'*60)"
      ],
      "metadata": {
        "colab": {
          "base_uri": "https://localhost:8080/"
        },
        "id": "YvtRMKqh3XAs",
        "outputId": "27a6ddf4-55ac-4e3d-c72a-3675b7896861"
      },
      "execution_count": 97,
      "outputs": [
        {
          "output_type": "stream",
          "name": "stdout",
          "text": [
            "############################################################\n",
            "합치기 전 기업개요_외감 사이즈: 28982\n",
            "합치기 전 기업개요 사이즈: 35721\n",
            "############################################################\n",
            "합친 후 총 사이즈: 64703\n",
            "############################################################\n",
            "중복 사이즈: 0\n",
            "중복제거 후 총 사이즈: 64703\n",
            "############################################################\n"
          ]
        }
      ]
    },
    {
      "cell_type": "markdown",
      "source": [
        "---\n",
        "### 5. 오늘자로 부터 설입일자를 뺀 후 기업존속기간을 일자로 계산\n",
        "---\n",
        "- 오기입처럼 보이는 데이터들이 있어서 1950년 이후의 데이터들만 계산"
      ],
      "metadata": {
        "id": "O7wt50Mb8azS"
      }
    },
    {
      "cell_type": "markdown",
      "source": [
        "---\n",
        "#### 5-1 \"기업개요_외감\"   \n",
        "---\n",
        "    가장 오래된 기업의 일자: 26493일\n",
        "    가장 짧은 기업의 일자: 91일\n",
        "\n",
        "  "
      ],
      "metadata": {
        "id": "OjNnXv5MUrJW"
      }
    },
    {
      "cell_type": "code",
      "source": [
        "active_ex['설립일자'].isnull().sum()"
      ],
      "metadata": {
        "colab": {
          "base_uri": "https://localhost:8080/"
        },
        "id": "ShDhAnAy8PJy",
        "outputId": "8999423d-0b05-420c-e68b-c629723e85c6"
      },
      "execution_count": 13,
      "outputs": [
        {
          "output_type": "execute_result",
          "data": {
            "text/plain": [
              "1074"
            ]
          },
          "metadata": {},
          "execution_count": 13
        }
      ]
    },
    {
      "cell_type": "code",
      "source": [
        "# 현 float64 형태를 str로 변경 해줘야 됨\n",
        "# 빈 값들을 살려주기 위해 -1로 변환 후 다시 공백 변환\n",
        "active_ex['설립일자'] = active_ex['설립일자'].fillna(-1).astype('int64').replace({-1:None})\n",
        "\n",
        "# 1950년 보다 작게 설정된 값들은 오기입 으로 간주하고 모두 Null(-1)값으로 변환\n",
        "for i in range(len(active_ex)):\n",
        "  try:\n",
        "    if active_ex['설립일자'][i] < 19500000 :\n",
        "      active_ex['설립일자'][i] = -1\n",
        "  except:\n",
        "    pass\n",
        "\n",
        "active_ex['설립일자'] = active_ex['설립일자'].fillna(-1).astype('str').replace({'-1':None})"
      ],
      "metadata": {
        "id": "7RY3GGGP9Jr9"
      },
      "execution_count": 14,
      "outputs": []
    },
    {
      "cell_type": "code",
      "source": [
        "# 데에티 중 20000700과 같이 일자가 00으로 체크된 데이터 01로 임의로 변경\n",
        "for i in range(len(active_ex)):\n",
        "  try:\n",
        "    if active_ex['설립일자'][i][-2 : ] == '00':\n",
        "      active_ex['설립일자'][i] = active_ex['설립일자'][i][:-2] + '01'\n",
        "  except:\n",
        "    pass\n",
        "active_ex['설립일자'] = pd.to_datetime(active_ex['설립일자'],format='%Y-%m-%d')"
      ],
      "metadata": {
        "id": "imrccRl697Ln"
      },
      "execution_count": 15,
      "outputs": []
    },
    {
      "cell_type": "code",
      "source": [
        "active_ex['존속기간'] = None\n",
        "today = datetime.now()\n",
        "now_day = f'{today.year}{today.month}{today.day}'\n",
        "# now_day = '20221027'\n",
        "date_0 = datetime.strptime(now_day, '%Y%m%d')\n",
        "\n",
        "for i in range(len(active_ex)):\n",
        "  active_ex['존속기간'][i] = (date_0 - active_ex['설립일자'][i]).days"
      ],
      "metadata": {
        "id": "oigquuxtD6hu"
      },
      "execution_count": 16,
      "outputs": []
    },
    {
      "cell_type": "code",
      "source": [
        "print('가장 오래된 기업의 일자:',active_ex['존속기간'].max())\n",
        "print('가장 짧은 기업의 일자:',active_ex['존속기간'].min())\n",
        "print('현재 기업 평균:',round(active_ex['존속기간'].mean()))"
      ],
      "metadata": {
        "colab": {
          "base_uri": "https://localhost:8080/"
        },
        "id": "0AzcrV2Y8j1L",
        "outputId": "3f1f7c9e-0d22-491d-a909-ac7f6d227c1a"
      },
      "execution_count": 17,
      "outputs": [
        {
          "output_type": "stream",
          "name": "stdout",
          "text": [
            "가장 오래된 기업의 일자: 26493\n",
            "가장 짧은 기업의 일자: 91\n",
            "현재 기업 평균: 6626\n"
          ]
        }
      ]
    },
    {
      "cell_type": "code",
      "source": [
        "sns.distplot(active_ex['존속기간'], kde=True, rug=True)"
      ],
      "metadata": {
        "colab": {
          "base_uri": "https://localhost:8080/",
          "height": 296
        },
        "id": "jV1khgViKYA2",
        "outputId": "3134d4e6-fb8f-4ead-c0c2-094a239c7472"
      },
      "execution_count": 18,
      "outputs": [
        {
          "output_type": "execute_result",
          "data": {
            "text/plain": [
              "<matplotlib.axes._subplots.AxesSubplot at 0x7f6466fa7410>"
            ]
          },
          "metadata": {},
          "execution_count": 18
        },
        {
          "output_type": "display_data",
          "data": {
            "text/plain": [
              "<Figure size 432x288 with 1 Axes>"
            ],
            "image/png": "[encoded data removed]"
          },
          "metadata": {
            "needs_background": "light"
          }
        }
      ]
    },
    {
      "cell_type": "markdown",
      "source": [
        "---\n",
        "#### 5-2 \"기업개요\"\n",
        "---\n",
        "    가장 오래된 기업의 일자: 26544일\n",
        "    가장 짧은 기업의 일자: 65일"
      ],
      "metadata": {
        "id": "f0iR29wfUvt2"
      }
    },
    {
      "cell_type": "code",
      "source": [
        "active_normal['설립일자'].isnull().sum()"
      ],
      "metadata": {
        "colab": {
          "base_uri": "https://localhost:8080/"
        },
        "outputId": "2f0c9581-5673-453e-eb33-6884b4b222c2",
        "id": "eqIC46AXU0he"
      },
      "execution_count": 19,
      "outputs": [
        {
          "output_type": "execute_result",
          "data": {
            "text/plain": [
              "1574"
            ]
          },
          "metadata": {},
          "execution_count": 19
        }
      ]
    },
    {
      "cell_type": "code",
      "source": [
        "# 현 float64 형태를 str로 변경 해줘야 됨\n",
        "# 빈 값들을 살려주기 위해 -1로 변환 후 다시 공백 변환\n",
        "active_normal['설립일자'] = active_normal['설립일자'].fillna(-1).astype('int64').replace({-1:None})\n",
        "\n",
        "# 1950년 보다 작게 설정된 값들은 오기입 으로 간주하고 모두 Null(-1)값으로 변환\n",
        "for i in range(len(active_normal)):\n",
        "  try:\n",
        "    if active_normal['설립일자'][i] < 19500000 :\n",
        "      active_normal['설립일자'][i] = -1\n",
        "  except:\n",
        "    pass\n",
        "\n",
        "active_normal['설립일자'] = active_normal['설립일자'].fillna(-1).astype('str').replace({\"-1\":None})"
      ],
      "metadata": {
        "id": "eEJQiP4nU0hf"
      },
      "execution_count": 20,
      "outputs": []
    },
    {
      "cell_type": "code",
      "source": [
        "# 데에티 중 20000700과 같이 일자가 00으로 체크된 데이터 01로 임의로 변경\n",
        "for i in range(len(active_normal)):\n",
        "  try:\n",
        "    if active_normal['설립일자'][i][-2 : ] == '00':\n",
        "      active_normal['설립일자'][i] = active_normal['설립일자'][i][:-2] + '01'\n",
        "  except:\n",
        "    pass\n",
        "active_normal['설립일자'] = pd.to_datetime(active_normal['설립일자'],format='%Y-%m-%d')"
      ],
      "metadata": {
        "id": "n26_MB7tU0hf"
      },
      "execution_count": 21,
      "outputs": []
    },
    {
      "cell_type": "code",
      "source": [
        "active_normal['존속기간'] = None\n",
        "today = datetime.now()\n",
        "now_day = f'{today.year}{today.month}{today.day}'\n",
        "# now_day = '20221027'\n",
        "date_0 = datetime.strptime(now_day, '%Y%m%d')\n",
        "\n",
        "for i in range(len(active_normal)):\n",
        "  active_normal['존속기간'][i] = (date_0 - active_normal['설립일자'][i]).days"
      ],
      "metadata": {
        "id": "gs9rk6CvU0hf"
      },
      "execution_count": 22,
      "outputs": []
    },
    {
      "cell_type": "code",
      "source": [
        "print('가장 오래된 기업의 일자:',active_normal['존속기간'].max())\n",
        "print('가장 짧은 기업의 일자:',active_normal['존속기간'].min())\n",
        "print('현재 기업 평균:',round(active_normal['존속기간'].mean()))"
      ],
      "metadata": {
        "colab": {
          "base_uri": "https://localhost:8080/"
        },
        "outputId": "c31a25fc-e2e5-434d-a8bc-0e497680faba",
        "id": "YOsOXjXyU0hf"
      },
      "execution_count": 23,
      "outputs": [
        {
          "output_type": "stream",
          "name": "stdout",
          "text": [
            "가장 오래된 기업의 일자: 26544\n",
            "가장 짧은 기업의 일자: 65\n",
            "현재 기업 평균: 4788\n"
          ]
        }
      ]
    },
    {
      "cell_type": "code",
      "source": [
        "sns.distplot(active_normal['존속기간'], kde=True, rug=True)"
      ],
      "metadata": {
        "colab": {
          "base_uri": "https://localhost:8080/",
          "height": 296
        },
        "outputId": "b91a1b65-4404-4301-ea92-7712b4a73326",
        "id": "Jd1X4q2XU0hf"
      },
      "execution_count": 24,
      "outputs": [
        {
          "output_type": "execute_result",
          "data": {
            "text/plain": [
              "<matplotlib.axes._subplots.AxesSubplot at 0x7f64660579d0>"
            ]
          },
          "metadata": {},
          "execution_count": 24
        },
        {
          "output_type": "display_data",
          "data": {
            "text/plain": [
              "<Figure size 432x288 with 1 Axes>"
            ],
            "image/png": "[encoded data removed]"
          },
          "metadata": {
            "needs_background": "light"
          }
        }
      ]
    },
    {
      "cell_type": "markdown",
      "source": [
        "---\n",
        "### 6. 액티브 휴폐업이력 확인\n",
        "---\n",
        "- CLSBZ_GB\n",
        "  - 1 = 부도\n",
        "  - 2 = 휴업\n",
        "  - 3 = 폐업\n",
        "  - 4 = 피합병\n",
        "  - 5 = 휴업취소\n",
        "  - 6 = 폐업취소\n",
        "\n",
        "\n",
        "    외감을 받는 기업은 자산총액이 120억 넘는 회사이기 때문에 휴폐업의 가능성이 더 적다는 것을 알 수 있다"
      ],
      "metadata": {
        "id": "3uVFSk25Rb8L"
      }
    },
    {
      "cell_type": "code",
      "source": [
        "for i in range(len(active_history)):\n",
        "  if active_history['END_DATE'][i] == 99991231:\n",
        "    active_history['END_DATE'][i] = 20221027\n"
      ],
      "metadata": {
        "id": "YrPDnOp3sq7q"
      },
      "execution_count": 36,
      "outputs": []
    },
    {
      "cell_type": "code",
      "source": [
        "active_history['END_DATE'] = active_history['END_DATE'].astype('str')\n",
        "active_history['STRT_DATE'] = active_history['STRT_DATE'].astype('str')\n",
        "\n",
        "active_history['END_DATE'] = pd.to_datetime(active_history['END_DATE'],format='%Y-%m-%d')\n",
        "active_history['STRT_DATE'] = pd.to_datetime(active_history['STRT_DATE'],format='%Y-%m-%d')"
      ],
      "metadata": {
        "id": "kkgYtB9dtwyi"
      },
      "execution_count": 38,
      "outputs": []
    },
    {
      "cell_type": "code",
      "source": [
        "active_history['CLOSE_DATE'] = None \n",
        "\n",
        "for i in range(len(active_history)):\n",
        "  active_history['CLOSE_DATE'][i] = (active_history['STRT_DATE'][i] - active_history['END_DATE'][i]).days"
      ],
      "metadata": {
        "id": "QNvXSpyQuDtA"
      },
      "execution_count": 45,
      "outputs": []
    },
    {
      "cell_type": "code",
      "source": [
        "active_history"
      ],
      "metadata": {
        "id": "llaH6kJyuynp"
      },
      "execution_count": null,
      "outputs": []
    },
    {
      "cell_type": "code",
      "source": [
        "ah = active_history['BIZ_NO'].tolist()\n",
        "ae = active_ex['사업자등록번호'].tolist()\n",
        "an = active_normal['사업자등록번호'].tolist()\n",
        "\n",
        "print('액티브 \"휴폐업\" 데이터 수:',len(ah))\n",
        "print('액티브 \"기업개요_외감\" 총 데이터 수:',len(ae))\n",
        "print('액티브 \"기업개요\" 총 데이터 수:',len(an))\n",
        "print('#'*60)\n",
        "\n",
        "ah_ae = []\n",
        "ah_an = []\n",
        "for i in range(len(ah)):\n",
        "  if ah[i] not in ae :\n",
        "    ah_ae.append(ah[i])\n",
        "  if ah[i] not in an:\n",
        "    ah_an.append(ah[i])\n",
        "\n",
        "print('휴폐업 데이터 중 \"기업개요_외감\"과 일치하지 않는 데이터 수:',len(ah_ae))\n",
        "print('휴폐업 데이터 중 \"기업개요\"와 일치하지 않는 데이터 수:',len(ah_an))"
      ],
      "metadata": {
        "colab": {
          "base_uri": "https://localhost:8080/"
        },
        "id": "nmo5PesxR01w",
        "outputId": "ded7e832-9ffd-4b66-d892-a174ec553073"
      },
      "execution_count": 25,
      "outputs": [
        {
          "output_type": "stream",
          "name": "stdout",
          "text": [
            "액티브 \"휴폐업\" 데이터 수: 4827\n",
            "액티브 \"기업개요_외감\" 총 데이터 수: 28982\n",
            "액티브 \"기업개요\" 총 데이터 수: 198651\n",
            "############################################################\n",
            "휴폐업 데이터 중 \"기업개요_외감\"과 일치하지 않는 데이터 수: 3963\n",
            "휴폐업 데이터 중 \"기업개요\"와 일치하지 않는 데이터 수: 0\n"
          ]
        }
      ]
    },
    {
      "cell_type": "code",
      "source": [],
      "metadata": {
        "id": "qlA6Qb8VR0uT"
      },
      "execution_count": null,
      "outputs": []
    },
    {
      "cell_type": "code",
      "source": [],
      "metadata": {
        "id": "cl5WHkoDR0tq"
      },
      "execution_count": null,
      "outputs": []
    },
    {
      "cell_type": "code",
      "source": [],
      "metadata": {
        "id": "n4OsibHYR0rW"
      },
      "execution_count": null,
      "outputs": []
    },
    {
      "cell_type": "markdown",
      "source": [
        "---\n",
        "### 7. 기업개요_외감에 있는 기업들이 재무제표 데이터에도 있는가?\n",
        "---\n",
        "    기업개요_외감에 있는 28982개의 기업들의 재무제표는  \n",
        "    재무제표 데이터에 모두 들어있음을 확인"
      ],
      "metadata": {
        "id": "nO8Qv_wfyrl7"
      }
    },
    {
      "cell_type": "code",
      "source": [
        "active_count = 0\n",
        "\n",
        "for i in range(len(active_ex)):\n",
        "  try:\n",
        "    number = active_ex['사업자등록번호'][i]\n",
        "    finance.query(f\"사업자번호 == {number}\")\n",
        "    active_count += 1\n",
        "  except:\n",
        "    pass\n",
        "print('액티브 \"기업개요_외감\"의 총 숫자:',len(active_ex))\n",
        "print('액티브 \"기업개요_외감\"에 들어있는 기업들이 재무재표 데이터에 등록된 데이터 수:',active_count)"
      ],
      "metadata": {
        "colab": {
          "base_uri": "https://localhost:8080/"
        },
        "id": "pfizKDZifAjF",
        "outputId": "8b4b990a-1171-4031-80a2-b028086fcea4"
      },
      "execution_count": 50,
      "outputs": [
        {
          "output_type": "stream",
          "name": "stdout",
          "text": [
            "액티브 \"기업개요_외감\"의 총 숫자: 28982\n",
            "액티브 \"기업개요_외감\" 중 재무재표에 등록된 데이터 수: 28982\n"
          ]
        }
      ]
    },
    {
      "cell_type": "markdown",
      "source": [
        "---\n",
        "### 8. 기타\n",
        "---"
      ],
      "metadata": {
        "id": "3KbQN3uSM4nr"
      }
    },
    {
      "cell_type": "markdown",
      "source": [
        "---\n",
        "- 개인법인 구분에서 개인 데이터만 존재\n",
        "---"
      ],
      "metadata": {
        "id": "9eQNMvnkM7wm"
      }
    },
    {
      "cell_type": "code",
      "source": [
        "# Null값은 없음\n",
        "active_normal['개인법인구분 1.법인 2.개인'].isnull().sum()"
      ],
      "metadata": {
        "colab": {
          "base_uri": "https://localhost:8080/"
        },
        "id": "FrgyMuO4OM0H",
        "outputId": "78dc2791-90cb-441c-ff64-3e82feae2727"
      },
      "execution_count": 93,
      "outputs": [
        {
          "output_type": "execute_result",
          "data": {
            "text/plain": [
              "0"
            ]
          },
          "metadata": {},
          "execution_count": 93
        }
      ]
    },
    {
      "cell_type": "code",
      "source": [
        "print('#'*70)\n",
        "print(len(active_normal))\n",
        "print(active_normal['개인법인구분 1.법인 2.개인'].value_counts())\n",
        "print('#'*70)\n",
        "print(len(active_ex))\n",
        "print(active_ex['개인법인구분 1.법인 2.개인'].value_counts())\n",
        "print('#'*70)"
      ],
      "metadata": {
        "colab": {
          "base_uri": "https://localhost:8080/"
        },
        "id": "ortLgsRZM6y6",
        "outputId": "46626a0c-a44c-42c2-c2e1-93f8b1cdac62"
      },
      "execution_count": 86,
      "outputs": [
        {
          "output_type": "stream",
          "name": "stdout",
          "text": [
            "198651\n",
            "1    198651\n",
            "Name: 개인법인구분 1.법인 2.개인, dtype: int64\n",
            "######################################################################\n",
            "28982\n",
            "1    28982\n",
            "Name: 개인법인구분 1.법인 2.개인, dtype: int64\n"
          ]
        }
      ]
    },
    {
      "cell_type": "markdown",
      "source": [
        "---\n",
        "- \"기업개요_외감\" 데이터에서 본지점 구분에서는 본점의 비율이 앞도적으로 높다\n",
        "---\n",
        "    본점 : 26070\n",
        "    분점 : 2912"
      ],
      "metadata": {
        "id": "tyu1E43-QIfR"
      }
    },
    {
      "cell_type": "code",
      "source": [
        "# Null값은 없음\n",
        "print('#'*70)\n",
        "print('Null값의 수:',active_ex['본점지점구분 1.본점 2.지점'].isnull().sum())\n",
        "print('#'*70)\n",
        "print(active_ex['본점지점구분 1.본점 2.지점'].value_counts())\n",
        "print('#'*70)"
      ],
      "metadata": {
        "colab": {
          "base_uri": "https://localhost:8080/"
        },
        "id": "0alegz2vP_b0",
        "outputId": "cda53bc3-d309-4c4c-e209-da3bf0ce2374"
      },
      "execution_count": 96,
      "outputs": [
        {
          "output_type": "stream",
          "name": "stdout",
          "text": [
            "0\n",
            "1    26070\n",
            "2     2912\n",
            "Name: 본점지점구분 1.본점 2.지점, dtype: int64\n"
          ]
        }
      ]
    },
    {
      "cell_type": "markdown",
      "source": [
        "---\n",
        "- \"기업개요\" 데이터에서 본지점 구분에서는 본점의 비율이 앞도적으로 높다\n",
        "---\n",
        "    본점 : 193740\n",
        "    분점 : 4911"
      ],
      "metadata": {
        "id": "FcgJaJuDNPz4"
      }
    },
    {
      "cell_type": "code",
      "source": [
        "# Null값은 없음\n",
        "print('#'*70)\n",
        "print('Null값의 수:',active_normal['본점지점구분 1.본점 2.지점'].isnull().sum())\n",
        "print('#'*70)\n",
        "print(active_normal['본점지점구분 1.본점 2.지점'].value_counts())\n",
        "print('#'*70)"
      ],
      "metadata": {
        "colab": {
          "base_uri": "https://localhost:8080/"
        },
        "id": "Sseb4HUaNB9I",
        "outputId": "4b641eb0-4b6b-4cee-c419-8bf131776525"
      },
      "execution_count": 95,
      "outputs": [
        {
          "output_type": "stream",
          "name": "stdout",
          "text": [
            "0\n",
            "1    193740\n",
            "2      4911\n",
            "Name: 본점지점구분 1.본점 2.지점, dtype: int64\n"
          ]
        }
      ]
    },
    {
      "cell_type": "markdown",
      "source": [
        "---\n",
        "- \"기업개요_외감\" 데이터에서 벤처기업 여부는 아닌 경우가 대부분이다.\n",
        "---\n",
        "    벤처기업 O: 2812\n",
        "    벤처기업 X: 26170"
      ],
      "metadata": {
        "id": "IMFOuWIxQO6O"
      }
    },
    {
      "cell_type": "code",
      "source": [
        "# Null값은 없음\n",
        "print('#'*70)\n",
        "print('Null값의 수:',active_ex['벤처기업여부'].isnull().sum())\n",
        "print('#'*70)\n",
        "print(active_ex['벤처기업여부'].value_counts())\n",
        "print('#'*70)"
      ],
      "metadata": {
        "colab": {
          "base_uri": "https://localhost:8080/"
        },
        "id": "Wg7DO1MXQRzj",
        "outputId": "0454db20-142f-4c36-d6cc-eff03b1b6b9d"
      },
      "execution_count": 100,
      "outputs": [
        {
          "output_type": "stream",
          "name": "stdout",
          "text": [
            "0\n",
            "N    26170\n",
            "Y     2812\n",
            "Name: 벤처기업여부, dtype: int64\n"
          ]
        }
      ]
    },
    {
      "cell_type": "markdown",
      "source": [
        "---\n",
        "- \"기업개요\" 데이터에서 벤처기업 여부는 아닌 경우가 대부분이다.\n",
        "---\n",
        "    벤처기업 O: 27809\n",
        "    벤처기업 X: 170842"
      ],
      "metadata": {
        "id": "XsIOc6W_RNii"
      }
    },
    {
      "cell_type": "code",
      "source": [
        "# Null값은 없음\n",
        "print('#'*70)\n",
        "print('Null값의 수:',active_normal['벤처기업여부'].isnull().sum())\n",
        "print('#'*70)\n",
        "print(active_normal['벤처기업여부'].value_counts())\n",
        "print('#'*70)"
      ],
      "metadata": {
        "colab": {
          "base_uri": "https://localhost:8080/"
        },
        "id": "67oYWsr5QRmu",
        "outputId": "13ee3f93-9bfa-476e-989c-787fe20472d3"
      },
      "execution_count": 101,
      "outputs": [
        {
          "output_type": "stream",
          "name": "stdout",
          "text": [
            "0\n",
            "N    170842\n",
            "Y     27809\n",
            "Name: 벤처기업여부, dtype: int64\n"
          ]
        }
      ]
    },
    {
      "cell_type": "markdown",
      "source": [
        "---\n",
        "# 휴폐업 데이터 살펴보기\n",
        "---"
      ],
      "metadata": {
        "id": "_Hm6rpPQ3_E3"
      }
    },
    {
      "cell_type": "markdown",
      "source": [
        "---\n",
        "### 1. 컬럼명 한글로 변경\n",
        "---"
      ],
      "metadata": {
        "id": "aizfgT-y4IWZ"
      }
    },
    {
      "cell_type": "code",
      "source": [
        "# 컬럼명이 일치하는 인덱스 확인\n",
        "close_name = close_normal.columns.tolist()\n",
        "\n",
        "\n",
        "close_list = []\n",
        "for i in close_name:\n",
        "  try:\n",
        "    close_list.append(eng.index(i))\n",
        "  except:\n",
        "    pass\n",
        "\n",
        "print(close_list)\n",
        "print(len(close_list))\n",
        "  \n",
        "# 한글로 컬럼명 변경\n",
        "for i in close_list:\n",
        "  close_normal = close_normal.rename(columns={eng[i] : kor[i]})\n",
        "\n",
        "print(close_normal.columns)"
      ],
      "metadata": {
        "colab": {
          "base_uri": "https://localhost:8080/"
        },
        "id": "O3prjBI6R0jQ",
        "outputId": "784fbceb-722e-4b27-b6ea-388d2ed259d8"
      },
      "execution_count": 53,
      "outputs": [
        {
          "output_type": "stream",
          "name": "stdout",
          "text": [
            "[0, 1, 2, 3, 4, 5, 6, 7, 8, 9, 10, 11, 12, 13, 14, 15, 16, 17, 18, 19, 20, 21, 22, 23, 24, 25, 26, 27]\n",
            "28\n",
            "Index(['사업자등록번호', '기업접두명', '기업명', '기업접미명', '기업영문명', '업종', '기업규모',\n",
            "       '공기업구분 1.공기업 2.일반기업', '개인법인구분 1.법인 2.개인', '본점지점구분 1.본점 2.지점',\n",
            "       '국외투자법인여부', '벤처기업여부', '상장코드', '산업코드차수', '산업코드1', '산업코드2', '산업코드3',\n",
            "       '공공기관유형', '중견기업보호여부', '본점기업코드', '설립일자', '설립구분', '상장일자', '주요사업내용', '국가명',\n",
            "       '홈페이지URL', '대표자명', '직원수'],\n",
            "      dtype='object')\n"
          ]
        }
      ]
    },
    {
      "cell_type": "markdown",
      "source": [
        "---\n",
        "### 2. 기업개요에 있는 기업들이 재무제표 데이터에도 있는가?\n",
        "---\n",
        "\n",
        "    기업개요에 있는 6739개의 기업들의 재무제표는  \n",
        "    재무제표 데이터에 모두 들어있음을 확인\n",
        "    "
      ],
      "metadata": {
        "id": "GqIu3tpM4pmE"
      }
    },
    {
      "cell_type": "code",
      "source": [
        "close_count = 0\n",
        "\n",
        "for i in range(len(close_normal)):\n",
        "  try:\n",
        "    number = close_normal['사업자등록번호'][i]\n",
        "    finance.query(f\"사업자번호 == {number}\")\n",
        "    close_count += 1\n",
        "  except:\n",
        "    pass\n",
        "print('휴폐업 중소법인 재무보유.xlsx의 총 숫자:',len(close_normal))\n",
        "print('휴페업 데이터 안에 기업 중 재무재표에 등록된 데이터 수:',close_count)"
      ],
      "metadata": {
        "colab": {
          "base_uri": "https://localhost:8080/"
        },
        "id": "f0KxzrfVdurD",
        "outputId": "69fad186-c529-43e8-c193-6d7e58b90b48"
      },
      "execution_count": 55,
      "outputs": [
        {
          "output_type": "stream",
          "name": "stdout",
          "text": [
            "휴폐업 중소법인 재무보유.xlsx의 총 숫자: 6739\n",
            "휴페업 데이터 안에 기업 중 재무재표에 등록된 데이터 수: 6739\n"
          ]
        }
      ]
    },
    {
      "cell_type": "markdown",
      "source": [
        "---\n",
        "### 3. 액티브 \"기업개요_외감\" 과 \"휴페업\" 중복 확인 (사업자번호 기준)\n",
        "---\n",
        "\n",
        "    액티브 + 휴페업 = 35721  \n",
        "    재무제표 데이터 중복제거 = 35709  \n",
        "\n",
        "    액티브 \"기업개요_외감\" 과 \"휴폐업\"의 사업자등록번호를 기준으로 재무제표에 들어있는지 확인 했을 때에는 모두 빠짐없이 들어있음을 확인하였다  \n",
        "    재무제표의 중복을 제거한 갯수와 위의 2개를 합친 갯수가 일치하지 않는다  \n",
        "      \n",
        "\n",
        "    12개는 무엇?"
      ],
      "metadata": {
        "id": "1vupb0-Zmc3V"
      }
    },
    {
      "cell_type": "code",
      "source": [
        "print('중복제거 전 사업자번호 등록 수:',len(finance['사업자번호'].tolist()))\n",
        "print('중복제거 후 사업자번호 등록 수:',len(set(finance['사업자번호'].tolist())))"
      ],
      "metadata": {
        "id": "3aHDIH5jAlPr",
        "colab": {
          "base_uri": "https://localhost:8080/"
        },
        "outputId": "ad5043c8-9a19-4919-dacf-bf6828c2c596"
      },
      "execution_count": 59,
      "outputs": [
        {
          "output_type": "stream",
          "name": "stdout",
          "text": [
            "중복제거 전 사업자번호 등록 수: 109142\n",
            "중복제거 후 사업자번호 등록 수: 35709\n"
          ]
        }
      ]
    },
    {
      "cell_type": "markdown",
      "source": [
        "---\n",
        "- 액티브와 휴페업의 중복 데이터 확인1\n",
        "---"
      ],
      "metadata": {
        "id": "57o3B3R2mlAg"
      }
    },
    {
      "cell_type": "code",
      "source": [
        "qq = set(finance['사업자번호'].tolist())\n",
        "\n",
        "count = 0\n",
        "for i in range(len(active_ex)):\n",
        "  if active_ex['사업자등록번호'][i] not in qq :\n",
        "    count += 0 \n",
        "print(count)\n",
        "\n",
        "for j in range(len(close_normal)):\n",
        "  if close_normal['사업자등록번호'][j] not in qq:\n",
        "    count += 0\n",
        "print(count)"
      ],
      "metadata": {
        "id": "1_1FZHQbmA_l",
        "colab": {
          "base_uri": "https://localhost:8080/"
        },
        "outputId": "6b9027d6-6f78-4519-ef85-81ad3275f63b"
      },
      "execution_count": 63,
      "outputs": [
        {
          "output_type": "stream",
          "name": "stdout",
          "text": [
            "0\n",
            "0\n"
          ]
        }
      ]
    },
    {
      "cell_type": "markdown",
      "source": [
        "---\n",
        "- 액티브와 휴페업의 중복 데이터 확인2\n",
        "---"
      ],
      "metadata": {
        "id": "F6_GTvxsmoYn"
      }
    },
    {
      "cell_type": "code",
      "source": [
        "test = pd.concat([close_normal['사업자등록번호'], active_ex['사업자등록번호']], ignore_index = True)\n",
        "print(len(set(test)))\n",
        "print(test.isnull().sum())"
      ],
      "metadata": {
        "colab": {
          "base_uri": "https://localhost:8080/"
        },
        "id": "aQEHOit-kkEn",
        "outputId": "2d4490a6-6663-45ea-be32-980882d5bf29"
      },
      "execution_count": 77,
      "outputs": [
        {
          "output_type": "stream",
          "name": "stdout",
          "text": [
            "35721\n",
            "0\n"
          ]
        }
      ]
    },
    {
      "cell_type": "code",
      "source": [
        "close_normal['개인법인구분 1.법인 2.개인'].value_counts()"
      ],
      "metadata": {
        "colab": {
          "base_uri": "https://localhost:8080/"
        },
        "id": "h4cMKan3Bv-O",
        "outputId": "6c18bd2c-a405-44bc-c2b6-7e85a1484123"
      },
      "execution_count": 79,
      "outputs": [
        {
          "output_type": "execute_result",
          "data": {
            "text/plain": [
              "1    6739\n",
              "Name: 개인법인구분 1.법인 2.개인, dtype: int64"
            ]
          },
          "metadata": {},
          "execution_count": 79
        }
      ]
    },
    {
      "cell_type": "code",
      "source": [
        "active_ex.shape"
      ],
      "metadata": {
        "colab": {
          "base_uri": "https://localhost:8080/"
        },
        "id": "9u6AgpP6MFtr",
        "outputId": "2e7fc5af-b71c-4532-c6ab-f15ff8783389"
      },
      "execution_count": 81,
      "outputs": [
        {
          "output_type": "execute_result",
          "data": {
            "text/plain": [
              "(28982, 29)"
            ]
          },
          "metadata": {},
          "execution_count": 81
        }
      ]
    },
    {
      "cell_type": "code",
      "source": [
        "close_history[close_history['STRT_DATE'] != close_history['STAT_OCR_DATE']]"
      ],
      "metadata": {
        "id": "wYvv57VvMJmb"
      },
      "execution_count": null,
      "outputs": []
    },
    {
      "cell_type": "code",
      "source": [],
      "metadata": {
        "id": "6cPxqvvkbKR6"
      },
      "execution_count": null,
      "outputs": []
    }
  ]
}