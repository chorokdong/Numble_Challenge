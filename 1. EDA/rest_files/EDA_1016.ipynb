{
  "nbformat": 4,
  "nbformat_minor": 0,
  "metadata": {
    "colab": {
      "provenance": [],
      "collapsed_sections": [],
      "toc_visible": true
    },
    "kernelspec": {
      "name": "python3",
      "display_name": "Python 3"
    },
    "language_info": {
      "name": "python"
    }
  },
  "cells": [
    {
      "cell_type": "markdown",
      "source": [
        "# 액티브 6번이랑 2번 다시 확인"
      ],
      "metadata": {
        "id": "zsNUYOrLzY6p"
      }
    },
    {
      "cell_type": "markdown",
      "source": [
        "- 산업코드차수가 10으로 표기된 것으로 보아 한국표준산업코드 10차를 기반으로 한 것 같음  \n",
        "하지만 코드 데이터가 일치하지 않는 데이터들이 다수 있는것으로 확인됨"
      ],
      "metadata": {
        "id": "1per3e9pUNdC"
      }
    },
    {
      "cell_type": "code",
      "execution_count": 1,
      "metadata": {
        "id": "m-XlZ-ubovsi"
      },
      "outputs": [],
      "source": [
        "import pandas as pd \n",
        "import numpy as np \n",
        "import matplotlib.pyplot as plt \n",
        "import seaborn as sns \n",
        "from datetime import date, datetime, timedelta\n",
        "pd.set_option('display.max_columns', None)\n",
        "import warnings\n",
        "warnings.filterwarnings('ignore')"
      ]
    },
    {
      "cell_type": "markdown",
      "source": [
        "---\n",
        "# 데이터 불러오기\n",
        "---"
      ],
      "metadata": {
        "id": "ncFiWsqyq-QZ"
      }
    },
    {
      "cell_type": "code",
      "source": [
        "layout = pd.read_excel('/content/drive/MyDrive/Numble_Challenge/data/넘블 챌린지 개방데이터 레이아웃.xlsx')\n",
        "codezip = pd.read_excel('/content/drive/MyDrive/Numble_Challenge/data/넘블 챌린지 개방데이터 코드집.xlsx')\n",
        "\n",
        "# 액티브는 sheet 3개 (기업개요_외감 / 기업개요 / 휴폐업이력) \n",
        "active_ex = pd.read_excel('/content/drive/MyDrive/Numble_Challenge/data/액티브 중소법인 재무보유.xlsx', sheet_name = 0)\n",
        "active_normal = pd.read_excel('/content/drive/MyDrive/Numble_Challenge/data/액티브 중소법인 재무보유.xlsx', sheet_name = 1)\n",
        "active_history = pd.read_excel('/content/drive/MyDrive/Numble_Challenge/data/액티브 중소법인 재무보유.xlsx', sheet_name = 2)\n",
        "\n",
        "# 휴페업은 sheet 2개 (기업개요 / 휴폐업이력)\n",
        "close_normal = pd.read_excel('/content/drive/MyDrive/Numble_Challenge/data/휴폐업 중소법인 재무보유.xlsx',sheet_name = 0)\n",
        "close_history = pd.read_excel('/content/drive/MyDrive/Numble_Challenge/data/휴폐업 중소법인 재무보유.xlsx',sheet_name = 1)\n",
        "\n",
        "finance = pd.read_table('/content/drive/MyDrive/Numble_Challenge/data/재무데이터.txt', encoding = 'CP949')"
      ],
      "metadata": {
        "id": "OD-Ssgivs1UC"
      },
      "execution_count": 2,
      "outputs": []
    },
    {
      "cell_type": "code",
      "source": [
        "print('#'*60)\n",
        "print('액티브 중소법인 \"기업개요_외감\" 데이터셋 크기 :',active_ex.shape)\n",
        "print('액티브 중소법인 \"기업개요\" 데이터셋 크기 :',active_normal.shape)\n",
        "print('액티브 중소법인 \"휴폐업이력\" 데이터셋 크기 :',active_history.shape)\n",
        "print('#'*60)\n",
        "print('휴폐업 중소법인 \"기업개요\" 데이터셋 크기 :',close_normal.shape)\n",
        "print('휴폐업 중소법인 \"휴폐업이력\" 데이터셋 크기 :',close_history.shape)\n",
        "print('#'*60)\n",
        "print('재무 데이터셋 크기: ',finance.shape)\n",
        "print('#'*60)"
      ],
      "metadata": {
        "colab": {
          "base_uri": "https://localhost:8080/"
        },
        "id": "qlMGb3ze34_H",
        "outputId": "e559fc64-f992-40df-f771-1f5da88229f3"
      },
      "execution_count": 3,
      "outputs": [
        {
          "output_type": "stream",
          "name": "stdout",
          "text": [
            "############################################################\n",
            "액티브 중소법인 \"기업개요_외감\" 데이터셋 크기 : (28982, 28)\n",
            "액티브 중소법인 \"기업개요\" 데이터셋 크기 : (198651, 31)\n",
            "액티브 중소법인 \"휴폐업이력\" 데이터셋 크기 : (4827, 5)\n",
            "############################################################\n",
            "휴폐업 중소법인 \"기업개요\" 데이터셋 크기 : (6739, 28)\n",
            "휴폐업 중소법인 \"휴폐업이력\" 데이터셋 크기 : (6840, 5)\n",
            "############################################################\n",
            "재무 데이터셋 크기:  (109142, 46)\n",
            "############################################################\n"
          ]
        }
      ]
    },
    {
      "cell_type": "markdown",
      "source": [
        "----\n",
        "# 액티브 중소법인 데이터 살펴보기\n",
        "----"
      ],
      "metadata": {
        "id": "kD0pHZ9RoMvG"
      }
    },
    {
      "cell_type": "markdown",
      "source": [
        "---\n",
        "### 1. 컬럼명 한글로 변경\n",
        "---"
      ],
      "metadata": {
        "id": "tgB-YbpasDOw"
      }
    },
    {
      "cell_type": "code",
      "source": [
        "# nan 값 제외\n",
        "eng = layout['영문칼럼명'].tolist()\n",
        "len(eng)\n",
        "kor = layout['한글칼럼명'].tolist()\n",
        "len(kor)"
      ],
      "metadata": {
        "colab": {
          "base_uri": "https://localhost:8080/"
        },
        "id": "Klo7uxW93xng",
        "outputId": "735df6a0-796b-4e8d-d58d-bd82db11e40d"
      },
      "execution_count": 4,
      "outputs": [
        {
          "output_type": "execute_result",
          "data": {
            "text/plain": [
              "43"
            ]
          },
          "metadata": {},
          "execution_count": 4
        }
      ]
    },
    {
      "cell_type": "code",
      "source": [
        "#CMP_NM1로 설정된 컬럼 수정\n",
        "print('#'*100)\n",
        "print(active_ex.columns)\n",
        "print(active_normal.columns)\n",
        "print(active_ex.shape)\n",
        "print(active_normal.shape)\n",
        "print('#'*100)\n",
        "active_ex.rename(columns={'CMP_NM1':'CMP_NM'}, inplace=True)\n",
        "del active_normal['CMP_NM1']\n",
        "print('#'*100)\n",
        "print(active_ex.columns)\n",
        "print(active_normal.columns)\n",
        "print(active_ex.shape)\n",
        "print(active_normal.shape)\n",
        "print('#'*100)"
      ],
      "metadata": {
        "id": "V2dfQUA7sfcH",
        "colab": {
          "base_uri": "https://localhost:8080/"
        },
        "outputId": "bb6088fd-e0cc-4802-f83f-257e5257c45b"
      },
      "execution_count": 5,
      "outputs": [
        {
          "output_type": "stream",
          "name": "stdout",
          "text": [
            "####################################################################################################\n",
            "Index(['BIZ_NO', 'CMP_PFIX_NM', 'CMP_NM1', 'CMP_SFIX_NM', 'CMP_ENM', 'BZ_TYP',\n",
            "       'CMP_SCL', 'PBCO_GB', 'PSN_CORP_GB', 'HDOF_BR_GB', 'FR_IVST_CORP_YN',\n",
            "       'VENT_YN', 'LIST_CD', 'IND_CD_ORDR', 'IND_CD1', 'IND_CD2', 'IND_CD3',\n",
            "       'PB_ORG_TYP', 'MDSCO_PRTC_YN', 'HDOF_CMP_CD', 'ESTB_DATE', 'ESTB_GB',\n",
            "       'LIST_DATE', 'MN_BIZ_CONT', 'NATN_NM', 'HOMEPAGE_URL', 'CEO_NM',\n",
            "       'EMP_CNT'],\n",
            "      dtype='object')\n",
            "Index(['BIZ_NO', 'CMP_PFIX_NM', 'CMP_NM', 'CMP_NM1', 'CMP_SFIX_NM', 'CMP_ENM',\n",
            "       'BZ_TYP', 'CMP_TYP', 'CMP_SCL', 'PBCO_GB', 'PSN_CORP_GB', 'HDOF_BR_GB',\n",
            "       'FR_IVST_CORP_YN', 'VENT_YN', 'LIST_CD', 'IND_CD_ORDR', 'IND_CD1',\n",
            "       'IND_CD2', 'IND_CD3', 'PB_ORG_TYP', 'MDSCO_PRTC_YN', 'TAXN_TYP',\n",
            "       'HDOF_CMP_CD', 'ESTB_DATE', 'ESTB_GB', 'LIST_DATE', 'MN_BIZ_CONT',\n",
            "       'NATN_NM', 'HOMEPAGE_URL', 'CEO_NM', 'EMP_CNT'],\n",
            "      dtype='object')\n",
            "(28982, 28)\n",
            "(198651, 31)\n",
            "####################################################################################################\n",
            "####################################################################################################\n",
            "Index(['BIZ_NO', 'CMP_PFIX_NM', 'CMP_NM', 'CMP_SFIX_NM', 'CMP_ENM', 'BZ_TYP',\n",
            "       'CMP_SCL', 'PBCO_GB', 'PSN_CORP_GB', 'HDOF_BR_GB', 'FR_IVST_CORP_YN',\n",
            "       'VENT_YN', 'LIST_CD', 'IND_CD_ORDR', 'IND_CD1', 'IND_CD2', 'IND_CD3',\n",
            "       'PB_ORG_TYP', 'MDSCO_PRTC_YN', 'HDOF_CMP_CD', 'ESTB_DATE', 'ESTB_GB',\n",
            "       'LIST_DATE', 'MN_BIZ_CONT', 'NATN_NM', 'HOMEPAGE_URL', 'CEO_NM',\n",
            "       'EMP_CNT'],\n",
            "      dtype='object')\n",
            "Index(['BIZ_NO', 'CMP_PFIX_NM', 'CMP_NM', 'CMP_SFIX_NM', 'CMP_ENM', 'BZ_TYP',\n",
            "       'CMP_TYP', 'CMP_SCL', 'PBCO_GB', 'PSN_CORP_GB', 'HDOF_BR_GB',\n",
            "       'FR_IVST_CORP_YN', 'VENT_YN', 'LIST_CD', 'IND_CD_ORDR', 'IND_CD1',\n",
            "       'IND_CD2', 'IND_CD3', 'PB_ORG_TYP', 'MDSCO_PRTC_YN', 'TAXN_TYP',\n",
            "       'HDOF_CMP_CD', 'ESTB_DATE', 'ESTB_GB', 'LIST_DATE', 'MN_BIZ_CONT',\n",
            "       'NATN_NM', 'HOMEPAGE_URL', 'CEO_NM', 'EMP_CNT'],\n",
            "      dtype='object')\n",
            "(28982, 28)\n",
            "(198651, 30)\n",
            "####################################################################################################\n"
          ]
        }
      ]
    },
    {
      "cell_type": "code",
      "source": [
        "# 컬럼명이 일치하는 인덱스 확인\n",
        "name_ex = active_ex.columns.tolist()\n",
        "\n",
        "active_ex_list = []\n",
        "for i in name_ex:\n",
        "  try:\n",
        "    active_ex_list.append(eng.index(i))\n",
        "  except:\n",
        "    pass\n",
        "\n",
        "print(active_ex_list)\n",
        "print(len(active_ex_list))\n",
        "  \n",
        "# 한글로 컬럼명 변경\n",
        "for i in active_ex_list:\n",
        "  active_ex = active_ex.rename(columns={eng[i] : kor[i]})\n",
        "\n",
        "print(active_ex.columns)"
      ],
      "metadata": {
        "colab": {
          "base_uri": "https://localhost:8080/"
        },
        "id": "ofrb6K7JraoP",
        "outputId": "0fa4d2e7-7467-465a-e0f6-103f524a63eb"
      },
      "execution_count": 6,
      "outputs": [
        {
          "output_type": "stream",
          "name": "stdout",
          "text": [
            "[0, 1, 2, 3, 4, 5, 6, 7, 8, 9, 10, 11, 12, 13, 14, 15, 16, 17, 18, 19, 20, 21, 22, 23, 24, 25, 26, 27]\n",
            "28\n",
            "Index(['사업자등록번호', '기업접두명', '기업명', '기업접미명', '기업영문명', '업종', '기업규모',\n",
            "       '공기업구분 1.공기업 2.일반기업', '개인법인구분 1.법인 2.개인', '본점지점구분 1.본점 2.지점',\n",
            "       '국외투자법인여부', '벤처기업여부', '상장코드', '산업코드차수', '산업코드1', '산업코드2', '산업코드3',\n",
            "       '공공기관유형', '중견기업보호여부', '본점기업코드', '설립일자', '설립구분', '상장일자', '주요사업내용', '국가명',\n",
            "       '홈페이지URL', '대표자명', '직원수'],\n",
            "      dtype='object')\n"
          ]
        }
      ]
    },
    {
      "cell_type": "code",
      "source": [
        "# 컬럼명이 일치하는 인덱스 확인\n",
        "name_normal = active_normal.columns.tolist()\n",
        "\n",
        "active_normal_list = []\n",
        "for i in name_normal:\n",
        "  try:\n",
        "    active_normal_list.append(eng.index(i))\n",
        "  except:\n",
        "    pass\n",
        "\n",
        "print(active_normal_list)\n",
        "print(len(active_normal_list))\n",
        "  \n",
        "# 한글로 컬럼명 변경\n",
        "for i in active_normal_list:\n",
        "  active_normal = active_normal.rename(columns={eng[i] : kor[i]})\n",
        "\n",
        "print(active_normal.columns)"
      ],
      "metadata": {
        "colab": {
          "base_uri": "https://localhost:8080/"
        },
        "id": "hBa9XVe4vJ6D",
        "outputId": "e483213e-7d84-4f21-be35-c73858eb8879"
      },
      "execution_count": 7,
      "outputs": [
        {
          "output_type": "stream",
          "name": "stdout",
          "text": [
            "[0, 1, 2, 3, 4, 5, 6, 7, 8, 9, 10, 11, 12, 13, 14, 15, 16, 17, 18, 19, 20, 21, 22, 23, 24, 25, 26, 27]\n",
            "28\n",
            "Index(['사업자등록번호', '기업접두명', '기업명', '기업접미명', '기업영문명', '업종', 'CMP_TYP', '기업규모',\n",
            "       '공기업구분 1.공기업 2.일반기업', '개인법인구분 1.법인 2.개인', '본점지점구분 1.본점 2.지점',\n",
            "       '국외투자법인여부', '벤처기업여부', '상장코드', '산업코드차수', '산업코드1', '산업코드2', '산업코드3',\n",
            "       '공공기관유형', '중견기업보호여부', 'TAXN_TYP', '본점기업코드', '설립일자', '설립구분', '상장일자',\n",
            "       '주요사업내용', '국가명', '홈페이지URL', '대표자명', '직원수'],\n",
            "      dtype='object')\n"
          ]
        }
      ]
    },
    {
      "cell_type": "markdown",
      "source": [
        "---\n",
        "### 2. 두 데이터 중 컬럼 다른 것은 무엇인가?\n",
        "---\n",
        "    'CMP_TYP', 'TAXN_TYP' 가 차이가 존재\n",
        "\n",
        "    CMP_TYP = 기업형태\n",
        "    TAXN_TYP = 과세 유형\n",
        "    "
      ],
      "metadata": {
        "id": "-NGU6vqe2DRV"
      }
    },
    {
      "cell_type": "code",
      "source": [
        "a = []\n",
        "for i in active_ex.columns:\n",
        "  a.append(i)\n",
        "b = []\n",
        "for j in active_normal.columns:\n",
        "  b.append(j)\n",
        "print(len(a))\n",
        "print(len(b))\n",
        "\n",
        "c = []\n",
        "for i in range(len(b)):\n",
        "  if b[i] not in a:\n",
        "    c.append(b[i])\n",
        "print(c)"
      ],
      "metadata": {
        "colab": {
          "base_uri": "https://localhost:8080/"
        },
        "id": "y_CJjdlWw34f",
        "outputId": "77f04b6e-1638-4930-823d-b23b8c08f38d"
      },
      "execution_count": 8,
      "outputs": [
        {
          "output_type": "stream",
          "name": "stdout",
          "text": [
            "28\n",
            "30\n",
            "['CMP_TYP', 'TAXN_TYP']\n"
          ]
        }
      ]
    },
    {
      "cell_type": "markdown",
      "source": [
        "---\n",
        "### 3. 기업개요_외감에 있는 기업들이 기업개요에 포함이 되는가?\n",
        "---\n",
        "    불일치하는 데이터는 없음   \n",
        "    즉 모두 포함이 되어 있음\n"
      ],
      "metadata": {
        "id": "7tC9S1PA2Gb3"
      }
    },
    {
      "cell_type": "code",
      "source": [
        "ex_list = active_ex['사업자등록번호'].tolist()\n",
        "normal_list = active_normal['사업자등록번호'].tolist()\n",
        "print('액티브 기업개요_외감의 중소기업 수:',len(ex_list))\n",
        "print('액티브 기업개요의 중소기업 수:',len(normal_list))\n",
        "\n",
        "\n",
        "inconsistent = []\n",
        "for i in range(len(ex_list)):\n",
        "  if ex_list[i] not in normal_list:\n",
        "    inconsistent.append(ex_list[i])\n",
        "\n",
        "print('불일치하는 데이터 수:',len(inconsistent))"
      ],
      "metadata": {
        "colab": {
          "base_uri": "https://localhost:8080/"
        },
        "id": "gsdSfwDr0t8n",
        "outputId": "398874a5-4bcf-4862-c714-c1258674777e"
      },
      "execution_count": 9,
      "outputs": [
        {
          "output_type": "stream",
          "name": "stdout",
          "text": [
            "액티브 기업개요_외감의 중소기업 수: 28982\n",
            "액티브 기업개요의 중소기업 수: 198651\n",
            "불일치하는 데이터 수: 0\n"
          ]
        }
      ]
    },
    {
      "cell_type": "markdown",
      "source": [
        "---\n",
        "### 4. 그렇다면 내용도 일치 하는가?\n",
        "---\n",
        "    1차 적으로 확인 하니 완벽하게 일치하지 않으며 약 2천여개만 내용까지 일치"
      ],
      "metadata": {
        "id": "xODsEVg22v_E"
      }
    },
    {
      "cell_type": "code",
      "source": [
        "test = active_normal.copy()\n",
        "del test['CMP_TYP'], test['TAXN_TYP']\n",
        "test.shape"
      ],
      "metadata": {
        "colab": {
          "base_uri": "https://localhost:8080/"
        },
        "id": "E-g0yDX329ZD",
        "outputId": "98c2e756-36ed-44e2-b8af-110c9483a779"
      },
      "execution_count": 10,
      "outputs": [
        {
          "output_type": "execute_result",
          "data": {
            "text/plain": [
              "(198651, 28)"
            ]
          },
          "metadata": {},
          "execution_count": 10
        }
      ]
    },
    {
      "cell_type": "code",
      "source": [
        "print(active_ex.duplicated().sum())\n",
        "print(test.duplicated().sum())"
      ],
      "metadata": {
        "colab": {
          "base_uri": "https://localhost:8080/"
        },
        "id": "5aoiPDWp29XU",
        "outputId": "a5f07662-0554-40f2-f8d9-73b773dd3ed0"
      },
      "execution_count": 11,
      "outputs": [
        {
          "output_type": "stream",
          "name": "stdout",
          "text": [
            "0\n",
            "0\n"
          ]
        }
      ]
    },
    {
      "cell_type": "code",
      "source": [
        "print('#'*60)\n",
        "print('합치기 전 기업개요_외감 사이즈:',len(active_ex))\n",
        "print('합치기 전 기업개요 사이즈:',len(test))\n",
        "print('#'*60)\n",
        "test_concat = pd.concat([active_ex,test], ignore_index = True)\n",
        "print('합친 후 총 사이즈:',len(test_concat))\n",
        "print('#'*60)\n",
        "print('중복 사이즈:', test_concat.duplicated().sum())\n",
        "test_concat = test_concat.drop_duplicates()\n",
        "print('중복제거 후 총 사이즈:',len(test_concat))\n",
        "print('#'*60)"
      ],
      "metadata": {
        "colab": {
          "base_uri": "https://localhost:8080/"
        },
        "id": "YvtRMKqh3XAs",
        "outputId": "cdfcd898-051e-4008-ba82-0158cdb18742"
      },
      "execution_count": 12,
      "outputs": [
        {
          "output_type": "stream",
          "name": "stdout",
          "text": [
            "############################################################\n",
            "합치기 전 기업개요_외감 사이즈: 28982\n",
            "합치기 전 기업개요 사이즈: 198651\n",
            "############################################################\n",
            "합친 후 총 사이즈: 227633\n",
            "############################################################\n",
            "중복 사이즈: 1233\n",
            "중복제거 후 총 사이즈: 226400\n",
            "############################################################\n"
          ]
        }
      ]
    },
    {
      "cell_type": "markdown",
      "source": [
        "---\n",
        "### 5. 오늘자로 부터 설입일자를 뺀 후 기업존속기간을 일자로 계산\n",
        "---\n",
        "- 오기입처럼 보이는 데이터들이 있어서 1950년 이후의 데이터들만 계산"
      ],
      "metadata": {
        "id": "O7wt50Mb8azS"
      }
    },
    {
      "cell_type": "markdown",
      "source": [
        "---\n",
        "#### 5-1 \"기업개요_외감\"   \n",
        "---\n",
        "    가장 오래된 기업의 일자: 26493일\n",
        "    가장 짧은 기업의 일자: 91일\n",
        "\n",
        "  "
      ],
      "metadata": {
        "id": "OjNnXv5MUrJW"
      }
    },
    {
      "cell_type": "code",
      "source": [
        "active_ex['설립일자'].isnull().sum()"
      ],
      "metadata": {
        "colab": {
          "base_uri": "https://localhost:8080/"
        },
        "id": "ShDhAnAy8PJy",
        "outputId": "d56c635a-20cb-4118-d713-ccfb401ff491"
      },
      "execution_count": 13,
      "outputs": [
        {
          "output_type": "execute_result",
          "data": {
            "text/plain": [
              "1074"
            ]
          },
          "metadata": {},
          "execution_count": 13
        }
      ]
    },
    {
      "cell_type": "code",
      "source": [
        "# 현 float64 형태를 str로 변경 해줘야 됨\n",
        "# 빈 값들을 살려주기 위해 -1로 변환 후 다시 공백 변환\n",
        "active_ex['설립일자'] = active_ex['설립일자'].fillna(-1).astype('int64').replace({-1:None})\n",
        "\n",
        "# 1950년 보다 작게 설정된 값들은 오기입 으로 간주하고 모두 Null(-1)값으로 변환\n",
        "for i in range(len(active_ex)):\n",
        "  try:\n",
        "    if active_ex['설립일자'][i] < 19500000 :\n",
        "      active_ex['설립일자'][i] = -1\n",
        "  except:\n",
        "    pass\n",
        "\n",
        "active_ex['설립일자'] = active_ex['설립일자'].fillna(-1).astype('str').replace({'-1':None})"
      ],
      "metadata": {
        "id": "7RY3GGGP9Jr9"
      },
      "execution_count": 14,
      "outputs": []
    },
    {
      "cell_type": "code",
      "source": [
        "# 데에티 중 20000700과 같이 일자가 00으로 체크된 데이터 01로 임의로 변경\n",
        "for i in range(len(active_ex)):\n",
        "  try:\n",
        "    if active_ex['설립일자'][i][-2 : ] == '00':\n",
        "      active_ex['설립일자'][i] = active_ex['설립일자'][i][:-2] + '01'\n",
        "  except:\n",
        "    pass\n",
        "active_ex['설립일자'] = pd.to_datetime(active_ex['설립일자'],format='%Y-%m-%d')"
      ],
      "metadata": {
        "id": "imrccRl697Ln"
      },
      "execution_count": 15,
      "outputs": []
    },
    {
      "cell_type": "code",
      "source": [
        "active_ex['존속기간'] = None\n",
        "today = datetime.now()\n",
        "now_day = f'{today.year}{today.month}{today.day}'\n",
        "# now_day = '20221027'\n",
        "date_0 = datetime.strptime(now_day, '%Y%m%d')\n",
        "\n",
        "for i in range(len(active_ex)):\n",
        "  active_ex['존속기간'][i] = (date_0 - active_ex['설립일자'][i]).days"
      ],
      "metadata": {
        "id": "oigquuxtD6hu"
      },
      "execution_count": 16,
      "outputs": []
    },
    {
      "cell_type": "code",
      "source": [
        "print('가장 오래된 기업의 일자:',active_ex['존속기간'].max())\n",
        "print('가장 짧은 기업의 일자:',active_ex['존속기간'].min())\n",
        "print('현재 기업 평균:',round(active_ex['존속기간'].mean()))"
      ],
      "metadata": {
        "colab": {
          "base_uri": "https://localhost:8080/"
        },
        "id": "0AzcrV2Y8j1L",
        "outputId": "cf9f5f39-d1d5-47b4-efd8-0fbee65e9ec0"
      },
      "execution_count": 17,
      "outputs": [
        {
          "output_type": "stream",
          "name": "stdout",
          "text": [
            "가장 오래된 기업의 일자: 26499\n",
            "가장 짧은 기업의 일자: 97\n",
            "현재 기업 평균: 6632\n"
          ]
        }
      ]
    },
    {
      "cell_type": "code",
      "source": [
        "sns.distplot(active_ex['존속기간'], kde=True, rug=True)"
      ],
      "metadata": {
        "colab": {
          "base_uri": "https://localhost:8080/",
          "height": 296
        },
        "id": "jV1khgViKYA2",
        "outputId": "9f040a86-97a6-4529-c930-2702cd0d7ae0"
      },
      "execution_count": 18,
      "outputs": [
        {
          "output_type": "execute_result",
          "data": {
            "text/plain": [
              "<matplotlib.axes._subplots.AxesSubplot at 0x7ff53a7de750>"
            ]
          },
          "metadata": {},
          "execution_count": 18
        },
        {
          "output_type": "display_data",
          "data": {
            "text/plain": [
              "<Figure size 432x288 with 1 Axes>"
            ],
            "image/png": "[encoded data removed]"
          },
          "metadata": {
            "needs_background": "light"
          }
        }
      ]
    },
    {
      "cell_type": "markdown",
      "source": [
        "---\n",
        "#### 5-2 \"기업개요\"\n",
        "---\n",
        "    가장 오래된 기업의 일자: 26544일\n",
        "    가장 짧은 기업의 일자: 65일"
      ],
      "metadata": {
        "id": "f0iR29wfUvt2"
      }
    },
    {
      "cell_type": "code",
      "source": [
        "active_normal['설립일자'].isnull().sum()"
      ],
      "metadata": {
        "colab": {
          "base_uri": "https://localhost:8080/"
        },
        "outputId": "187c8681-4c9b-4e51-dc00-d6171feafc22",
        "id": "eqIC46AXU0he"
      },
      "execution_count": 19,
      "outputs": [
        {
          "output_type": "execute_result",
          "data": {
            "text/plain": [
              "1574"
            ]
          },
          "metadata": {},
          "execution_count": 19
        }
      ]
    },
    {
      "cell_type": "code",
      "source": [
        "# 현 float64 형태를 str로 변경 해줘야 됨\n",
        "# 빈 값들을 살려주기 위해 -1로 변환 후 다시 공백 변환\n",
        "active_normal['설립일자'] = active_normal['설립일자'].fillna(-1).astype('int64').replace({-1:None})\n",
        "\n",
        "# 1950년 보다 작게 설정된 값들은 오기입 으로 간주하고 모두 Null(-1)값으로 변환\n",
        "for i in range(len(active_normal)):\n",
        "  try:\n",
        "    if active_normal['설립일자'][i] < 19500000 :\n",
        "      active_normal['설립일자'][i] = -1\n",
        "  except:\n",
        "    pass\n",
        "\n",
        "active_normal['설립일자'] = active_normal['설립일자'].fillna(-1).astype('str').replace({\"-1\":None})"
      ],
      "metadata": {
        "id": "eEJQiP4nU0hf"
      },
      "execution_count": 20,
      "outputs": []
    },
    {
      "cell_type": "code",
      "source": [
        "# 데에티 중 20000700과 같이 일자가 00으로 체크된 데이터 01로 임의로 변경\n",
        "for i in range(len(active_normal)):\n",
        "  try:\n",
        "    if active_normal['설립일자'][i][-2 : ] == '00':\n",
        "      active_normal['설립일자'][i] = active_normal['설립일자'][i][:-2] + '01'\n",
        "  except:\n",
        "    pass\n",
        "active_normal['설립일자'] = pd.to_datetime(active_normal['설립일자'],format='%Y-%m-%d')"
      ],
      "metadata": {
        "id": "n26_MB7tU0hf"
      },
      "execution_count": 21,
      "outputs": []
    },
    {
      "cell_type": "code",
      "source": [
        "active_normal['존속기간'] = None\n",
        "today = datetime.now()\n",
        "now_day = f'{today.year}{today.month}{today.day}'\n",
        "# now_day = '20221027'\n",
        "date_0 = datetime.strptime(now_day, '%Y%m%d')\n",
        "\n",
        "for i in range(len(active_normal)):\n",
        "  active_normal['존속기간'][i] = (date_0 - active_normal['설립일자'][i]).days"
      ],
      "metadata": {
        "id": "gs9rk6CvU0hf"
      },
      "execution_count": 22,
      "outputs": []
    },
    {
      "cell_type": "code",
      "source": [
        "print('가장 오래된 기업의 일자:',active_normal['존속기간'].max())\n",
        "print('가장 짧은 기업의 일자:',active_normal['존속기간'].min())\n",
        "print('현재 기업 평균:',round(active_normal['존속기간'].mean()))"
      ],
      "metadata": {
        "colab": {
          "base_uri": "https://localhost:8080/"
        },
        "outputId": "f66d31cf-9cb1-4748-f9bc-069c336809c1",
        "id": "YOsOXjXyU0hf"
      },
      "execution_count": 23,
      "outputs": [
        {
          "output_type": "stream",
          "name": "stdout",
          "text": [
            "가장 오래된 기업의 일자: 26550\n",
            "가장 짧은 기업의 일자: 71\n",
            "현재 기업 평균: 4794\n"
          ]
        }
      ]
    },
    {
      "cell_type": "code",
      "source": [
        "sns.distplot(active_normal['존속기간'], kde=True, rug=True)"
      ],
      "metadata": {
        "colab": {
          "base_uri": "https://localhost:8080/",
          "height": 296
        },
        "outputId": "bdf51d05-a026-4b14-d58e-d30417f668c1",
        "id": "Jd1X4q2XU0hf"
      },
      "execution_count": 24,
      "outputs": [
        {
          "output_type": "execute_result",
          "data": {
            "text/plain": [
              "<matplotlib.axes._subplots.AxesSubplot at 0x7ff53242ab10>"
            ]
          },
          "metadata": {},
          "execution_count": 24
        },
        {
          "output_type": "display_data",
          "data": {
            "text/plain": [
              "<Figure size 432x288 with 1 Axes>"
            ],
            "image/png": "[encoded data removed]"
          },
          "metadata": {
            "needs_background": "light"
          }
        }
      ]
    },
    {
      "cell_type": "markdown",
      "source": [
        "---\n",
        "### 6. 액티브 휴폐업이력 확인\n",
        "---\n",
        "- CLSBZ_GB\n",
        "  - 1 = 부도\n",
        "  - 2 = 휴업\n",
        "  - 3 = 폐업\n",
        "  - 4 = 피합병\n",
        "  - 5 = 휴업취소\n",
        "  - 6 = 폐업취소\n",
        "\n",
        "\n",
        "    외감을 받는 기업은 자산총액이 120억 넘는 회사이기 때문에 휴폐업의 가능성이 더 적다는 것을 알 수 있다"
      ],
      "metadata": {
        "id": "3uVFSk25Rb8L"
      }
    },
    {
      "cell_type": "code",
      "source": [
        "ah = active_history['BIZ_NO'].tolist()\n",
        "ae = active_ex['사업자등록번호'].tolist()\n",
        "an = active_normal['사업자등록번호'].tolist()\n",
        "\n",
        "print('액티브 \"휴폐업\" 데이터 수:',len(ah))\n",
        "print('액티브 \"기업개요_외감\" 총 데이터 수:',len(ae))\n",
        "print('액티브 \"기업개요\" 총 데이터 수:',len(an))\n",
        "print('#'*60)\n",
        "\n",
        "ah_ae = []\n",
        "ah_an = []\n",
        "for i in range(len(ah)):\n",
        "  if ah[i] not in ae :\n",
        "    ah_ae.append(ah[i])\n",
        "  if ah[i] not in an:\n",
        "    ah_an.append(ah[i])\n",
        "\n",
        "print('휴폐업 데이터 사업자등록번호 중 \"기업개요_외감\"과 일치하지 않는 데이터 수:',len(ah_ae))\n",
        "print('휴폐업 데이터 사업자등록번호 중 \"기업개요\"와 일치하지 않는 데이터 수:',len(ah_an))"
      ],
      "metadata": {
        "colab": {
          "base_uri": "https://localhost:8080/"
        },
        "id": "nmo5PesxR01w",
        "outputId": "37442f6e-802f-4f2d-bd53-1167de407928"
      },
      "execution_count": 25,
      "outputs": [
        {
          "output_type": "stream",
          "name": "stdout",
          "text": [
            "액티브 \"휴폐업\" 데이터 수: 4827\n",
            "액티브 \"기업개요_외감\" 총 데이터 수: 28982\n",
            "액티브 \"기업개요\" 총 데이터 수: 198651\n",
            "############################################################\n",
            "휴폐업 데이터 사업자등록번호 중 \"기업개요_외감\"과 일치하지 않는 데이터 수: 3963\n",
            "휴폐업 데이터 사업자등록번호 중 \"기업개요\"와 일치하지 않는 데이터 수: 0\n"
          ]
        }
      ]
    },
    {
      "cell_type": "markdown",
      "source": [
        "---\n",
        "- STAT_OCR_DATE이 존재하는 데이터에 대해서는 해당 값을 사용하는 것이 더 신뢰성이 높을 것이다 \n",
        "---\n",
        "   \n",
        "        'STRT_DATE'는 휴폐업 데이터가 입수된 날짜,  \n",
        "        'STAT_OCR_DATE'는 상태발생일자이고,  \n",
        "        상태발생일자가 없는 경우는 해당 데이터가 입수되지 않은 것 입니다. \n",
        "\n",
        "\n",
        "1. 99991231로 작성된 데이터는 최신 데이터임을 의미한다. 이를 중간 제출일을 기준으로 작성하고자 20221027로 수정하겠다.\n",
        "\n",
        "2. STRT_DATE에 작성된 20200731은 해당 데이터가 입수된 일자를 뜻한다.  \n",
        "이는 즉, 해당 기간보다 먼저 어떤 휴폐업이 진행이 됐다고 하더라도 20200731로 작성이 된다.   \n",
        "이는 신뢰성이 다소 떨어지기 때문에 해당 값은 None값으로 변경하겠다.\n"
      ],
      "metadata": {
        "id": "eR6Uu0q2HAbd"
      }
    },
    {
      "cell_type": "code",
      "source": [
        "active_history = pd.read_excel('/content/drive/MyDrive/Numble_Challenge/data/액티브 중소법인 재무보유.xlsx', sheet_name = 2)"
      ],
      "metadata": {
        "id": "nKOmad0FjfCz"
      },
      "execution_count": 146,
      "outputs": []
    },
    {
      "cell_type": "code",
      "source": [
        "for i in range(len(active_history)):\n",
        "  if active_history['END_DATE'][i] == 99991231:\n",
        "    active_history['END_DATE'][i] = 20221027\n",
        "\n",
        "for i in range(len(active_history)):\n",
        "  if active_history['STRT_DATE'][i] == 20200731:\n",
        "    active_history['STRT_DATE'][i] = None\n"
      ],
      "metadata": {
        "id": "YrPDnOp3sq7q"
      },
      "execution_count": 147,
      "outputs": []
    },
    {
      "cell_type": "code",
      "source": [
        "active_history['END_DATE'] = active_history['END_DATE'].astype('str')\n",
        "active_history['STRT_DATE'] = active_history['STRT_DATE'].fillna(0).astype('int64').astype('str').replace({'0':None})\n",
        "\n",
        "active_history['END_DATE'] = pd.to_datetime(active_history['END_DATE'],format='%Y-%m-%d')\n",
        "active_history['STRT_DATE'] = pd.to_datetime(active_history['STRT_DATE'],format='%Y-%m-%d')"
      ],
      "metadata": {
        "id": "kkgYtB9dtwyi"
      },
      "execution_count": 148,
      "outputs": []
    },
    {
      "cell_type": "code",
      "source": [
        "# int 변경 후 str 타입으로 변경 후 datetime변경\n",
        "active_history['STAT_OCR_DATE'] = active_history['STAT_OCR_DATE'].fillna(0).astype('int64').astype('str').replace({'0':None})\n",
        "active_history['STAT_OCR_DATE'] = pd.to_datetime(active_history['STAT_OCR_DATE'],format='%Y-%m-%d')"
      ],
      "metadata": {
        "id": "p5SITnSNvFU5"
      },
      "execution_count": 149,
      "outputs": []
    },
    {
      "cell_type": "code",
      "source": [
        "# STAT_OCR_DATE컬럼 중 NaN값이 아닌 값을 STRT_DATE에 덮어씌우기\n",
        "for i in range(len(active_history)):\n",
        "  if isinstance(active_history['STAT_OCR_DATE'][i], pd._libs.tslibs.nattype.NaTType) == False:\n",
        "    active_history['STRT_DATE'][i] = active_history['STAT_OCR_DATE'][i]\n"
      ],
      "metadata": {
        "id": "jfzyVMbom5dx"
      },
      "execution_count": 150,
      "outputs": []
    },
    {
      "cell_type": "code",
      "source": [
        "############ 사업자번호가 중복되는 값의 인덱스를 변환하기 위한 코드 ############\n",
        "\n",
        "# 사업자번호의 중복값의 시작값은 True\n",
        "a = active_history['BIZ_NO'].duplicated()\n",
        "\n",
        "# 사업자번호 전체 인덱스 값 생성\n",
        "b = list(range(len(a)))\n",
        "\n",
        "for i in range(len(a)):\n",
        "  if a[i] == True: # True 라는 것은 사업자번호가 중복되는 값의 시작점이며 다음 True가 나올때 까지 중복된 값임\n",
        "    b.remove(i)\n",
        "\n",
        "print(b)"
      ],
      "metadata": {
        "colab": {
          "base_uri": "https://localhost:8080/"
        },
        "id": "AWIJZYeqwcza",
        "outputId": "8629027a-cd3c-488a-f9f8-2d35e123fed9"
      },
      "execution_count": 151,
      "outputs": [
        {
          "output_type": "stream",
          "name": "stdout",
          "text": [
            "[0, 2, 6, 12, 14, 16, 18, 20, 22, 24, 26, 28, 30, 32, 34, 38, 40, 42, 44, 46, 48, 50, 52, 56, 58, 60, 62, 64, 66, 68, 70, 72, 74, 76, 78, 80, 82, 84, 85, 87, 89, 91, 93, 95, 97, 101, 102, 104, 106, 108, 110, 112, 114, 116, 118, 120, 122, 123, 127, 129, 133, 135, 137, 139, 141, 143, 145, 147, 148, 150, 152, 154, 156, 158, 160, 162, 164, 166, 167, 169, 171, 173, 175, 177, 179, 181, 185, 187, 191, 193, 195, 201, 203, 205, 207, 209, 211, 213, 215, 217, 221, 223, 225, 227, 229, 231, 233, 235, 249, 251, 253, 257, 259, 261, 263, 265, 271, 273, 276, 279, 281, 283, 287, 291, 295, 297, 299, 300, 302, 303, 305, 307, 309, 311, 313, 315, 317, 319, 321, 323, 325, 327, 329, 330, 332, 333, 335, 337, 339, 341, 343, 345, 347, 349, 351, 353, 357, 365, 367, 369, 371, 375, 377, 378, 382, 384, 386, 388, 390, 392, 394, 396, 400, 402, 404, 406, 408, 410, 412, 414, 416, 418, 420, 424, 426, 428, 430, 432, 434, 435, 437, 439, 441, 443, 445, 447, 449, 451, 453, 455, 457, 459, 462, 464, 466, 468, 470, 472, 474, 476, 478, 484, 486, 488, 490, 494, 496, 498, 500, 502, 504, 506, 508, 510, 512, 514, 516, 518, 520, 522, 524, 526, 528, 530, 532, 534, 535, 537, 539, 543, 547, 548, 550, 552, 554, 556, 559, 561, 565, 569, 571, 573, 577, 579, 581, 587, 589, 594, 596, 598, 600, 602, 604, 606, 607, 609, 611, 613, 615, 617, 619, 623, 625, 629, 633, 635, 637, 639, 643, 645, 647, 650, 652, 654, 662, 664, 670, 672, 674, 678, 679, 681, 687, 689, 692, 694, 696, 698, 700, 702, 706, 708, 714, 716, 717, 719, 721, 722, 724, 728, 730, 732, 734, 736, 738, 740, 744, 746, 748, 750, 752, 754, 756, 758, 760, 762, 764, 770, 772, 774, 776, 778, 780, 782, 784, 785, 787, 789, 791, 796, 798, 800, 802, 804, 806, 808, 810, 812, 814, 822, 824, 826, 833, 837, 839, 841, 844, 846, 848, 850, 854, 856, 858, 860, 862, 868, 870, 874, 878, 880, 882, 884, 886, 888, 890, 891, 895, 897, 899, 903, 905, 907, 908, 910, 912, 914, 916, 918, 920, 924, 926, 928, 930, 932, 934, 936, 938, 940, 958, 960, 962, 964, 966, 968, 970, 972, 974, 976, 978, 984, 985, 991, 993, 995, 997, 999, 1001, 1003, 1005, 1007, 1011, 1013, 1017, 1019, 1021, 1025, 1027, 1029, 1033, 1035, 1037, 1039, 1041, 1043, 1045, 1047, 1049, 1051, 1053, 1055, 1057, 1059, 1061, 1062, 1064, 1066, 1070, 1075, 1077, 1079, 1081, 1083, 1085, 1087, 1095, 1097, 1099, 1101, 1103, 1105, 1107, 1109, 1115, 1117, 1119, 1121, 1123, 1125, 1127, 1129, 1131, 1133, 1137, 1139, 1141, 1144, 1146, 1148, 1150, 1152, 1154, 1156, 1158, 1160, 1162, 1164, 1166, 1168, 1170, 1174, 1176, 1178, 1180, 1182, 1184, 1186, 1190, 1194, 1196, 1198, 1202, 1204, 1206, 1210, 1212, 1214, 1218, 1220, 1222, 1224, 1226, 1228, 1230, 1232, 1234, 1236, 1238, 1240, 1242, 1244, 1246, 1248, 1250, 1254, 1256, 1258, 1262, 1266, 1268, 1269, 1271, 1273, 1275, 1277, 1279, 1282, 1284, 1285, 1287, 1291, 1293, 1295, 1297, 1299, 1303, 1307, 1309, 1311, 1313, 1315, 1319, 1321, 1323, 1325, 1327, 1329, 1331, 1333, 1335, 1337, 1339, 1341, 1343, 1347, 1349, 1351, 1353, 1355, 1357, 1359, 1361, 1363, 1365, 1367, 1369, 1371, 1373, 1375, 1377, 1379, 1381, 1383, 1385, 1387, 1389, 1391, 1393, 1395, 1397, 1399, 1401, 1403, 1405, 1407, 1412, 1414, 1416, 1418, 1420, 1422, 1424, 1426, 1428, 1430, 1432, 1434, 1436, 1438, 1440, 1442, 1443, 1445, 1447, 1448, 1450, 1452, 1456, 1458, 1460, 1462, 1464, 1466, 1468, 1470, 1472, 1474, 1476, 1478, 1482, 1484, 1492, 1494, 1500, 1502, 1505, 1507, 1509, 1511, 1513, 1515, 1516, 1520, 1523, 1525, 1527, 1529, 1531, 1533, 1535, 1537, 1539, 1541, 1542, 1544, 1546, 1550, 1552, 1554, 1556, 1558, 1560, 1564, 1566, 1568, 1570, 1572, 1574, 1578, 1584, 1586, 1588, 1590, 1592, 1593, 1595, 1597, 1599, 1601, 1603, 1605, 1607, 1609, 1611, 1613, 1615, 1617, 1619, 1621, 1623, 1625, 1627, 1629, 1631, 1633, 1635, 1637, 1639, 1641, 1643, 1649, 1650, 1652, 1654, 1656, 1658, 1660, 1662, 1664, 1666, 1676, 1678, 1680, 1682, 1684, 1686, 1698, 1700, 1702, 1704, 1706, 1710, 1712, 1714, 1716, 1718, 1720, 1722, 1730, 1736, 1738, 1740, 1742, 1744, 1746, 1748, 1750, 1752, 1754, 1756, 1758, 1760, 1764, 1771, 1773, 1775, 1777, 1779, 1783, 1785, 1787, 1789, 1791, 1793, 1797, 1799, 1802, 1804, 1806, 1808, 1810, 1814, 1816, 1820, 1822, 1824, 1826, 1828, 1830, 1832, 1833, 1835, 1837, 1839, 1841, 1845, 1847, 1849, 1851, 1852, 1854, 1856, 1858, 1860, 1862, 1863, 1865, 1867, 1869, 1871, 1873, 1875, 1878, 1880, 1882, 1884, 1886, 1889, 1893, 1899, 1901, 1905, 1906, 1908, 1910, 1912, 1914, 1916, 1918, 1920, 1922, 1924, 1926, 1930, 1932, 1934, 1936, 1944, 1946, 1948, 1952, 1954, 1956, 1958, 1960, 1962, 1964, 1966, 1968, 1970, 1974, 1976, 1978, 1980, 1982, 1984, 1986, 1988, 1992, 1994, 1996, 1998, 2000, 2002, 2004, 2006, 2008, 2010, 2012, 2014, 2016, 2018, 2022, 2023, 2025, 2031, 2032, 2034, 2036, 2038, 2044, 2046, 2048, 2050, 2054, 2056, 2059, 2061, 2063, 2065, 2067, 2069, 2071, 2075, 2077, 2079, 2081, 2084, 2086, 2088, 2090, 2092, 2094, 2096, 2098, 2100, 2102, 2104, 2106, 2108, 2112, 2114, 2118, 2120, 2122, 2124, 2126, 2127, 2129, 2131, 2133, 2135, 2137, 2139, 2143, 2145, 2147, 2149, 2151, 2152, 2154, 2156, 2158, 2160, 2164, 2166, 2168, 2170, 2174, 2176, 2178, 2180, 2181, 2183, 2185, 2187, 2189, 2195, 2197, 2199, 2203, 2205, 2207, 2209, 2213, 2215, 2216, 2218, 2222, 2224, 2226, 2228, 2230, 2232, 2234, 2236, 2238, 2240, 2242, 2244, 2248, 2250, 2252, 2254, 2258, 2260, 2262, 2264, 2266, 2268, 2274, 2276, 2278, 2280, 2282, 2284, 2286, 2288, 2290, 2292, 2296, 2298, 2300, 2302, 2304, 2306, 2308, 2310, 2320, 2324, 2328, 2330, 2332, 2334, 2336, 2338, 2340, 2342, 2344, 2346, 2348, 2350, 2352, 2354, 2358, 2360, 2362, 2364, 2366, 2368, 2370, 2372, 2374, 2376, 2378, 2380, 2382, 2384, 2386, 2388, 2390, 2394, 2398, 2400, 2402, 2404, 2406, 2408, 2410, 2412, 2414, 2416, 2418, 2420, 2422, 2424, 2426, 2428, 2430, 2432, 2434, 2436, 2438, 2440, 2442, 2444, 2449, 2451, 2453, 2455, 2463, 2467, 2469, 2471, 2473, 2475, 2477, 2479, 2483, 2485, 2487, 2489, 2491, 2493, 2495, 2497, 2499, 2501, 2503, 2505, 2507, 2511, 2515, 2517, 2521, 2523, 2525, 2527, 2529, 2531, 2533, 2536, 2538, 2540, 2542, 2544, 2554, 2556, 2558, 2560, 2564, 2566, 2568, 2570, 2572, 2574, 2576, 2578, 2581, 2583, 2585, 2591, 2595, 2597, 2599, 2603, 2605, 2607, 2609, 2611, 2613, 2615, 2617, 2619, 2627, 2631, 2637, 2639, 2643, 2649, 2651, 2653, 2655, 2657, 2659, 2661, 2663, 2665, 2667, 2669, 2671, 2673, 2677, 2679, 2683, 2685, 2687, 2689, 2691, 2693, 2695, 2697, 2701, 2703, 2705, 2707, 2709, 2711, 2713, 2715, 2717, 2719, 2721, 2723, 2725, 2727, 2729, 2731, 2733, 2738, 2740, 2742, 2744, 2750, 2752, 2754, 2756, 2758, 2760, 2762, 2764, 2766, 2768, 2770, 2772, 2776, 2778, 2780, 2782, 2784, 2786, 2788, 2790, 2792, 2794, 2798, 2800, 2802, 2804, 2806, 2808, 2810, 2812, 2814, 2816, 2818, 2820, 2822, 2824, 2826, 2832, 2834, 2836, 2838, 2842, 2844, 2846, 2848, 2852, 2854, 2856, 2860, 2862, 2864, 2866, 2870, 2872, 2874, 2876, 2880, 2884, 2888, 2892, 2894, 2896, 2898, 2900, 2902, 2906, 2908, 2910, 2912, 2914, 2916, 2918, 2920, 2922, 2924, 2926, 2928, 2930, 2932, 2934, 2936, 2938, 2940, 2942, 2944, 2946, 2948, 2954, 2956, 2962, 2964, 2966, 2968, 2976, 2978, 2980, 2982, 2984, 2986, 2988, 2990, 2992, 2994, 2996, 2998, 2999, 3001, 3003, 3009, 3011, 3013, 3015, 3017, 3019, 3021, 3023, 3027, 3029, 3031, 3037, 3041, 3045, 3047, 3049, 3051, 3053, 3056, 3058, 3060, 3062, 3064, 3066, 3070, 3072, 3076, 3078, 3080, 3082, 3084, 3086, 3088, 3090, 3092, 3094, 3096, 3098, 3102, 3104, 3106, 3108, 3114, 3116, 3118, 3120, 3122, 3124, 3128, 3130, 3132, 3134, 3136, 3138, 3140, 3142, 3144, 3148, 3150, 3152, 3154, 3156, 3158, 3160, 3162, 3164, 3166, 3168, 3170, 3172, 3174, 3176, 3178, 3180, 3182, 3184, 3186, 3188, 3190, 3192, 3194, 3196, 3198, 3200, 3202, 3204, 3206, 3209, 3211, 3213, 3215, 3217, 3219, 3221, 3223, 3225, 3227, 3229, 3231, 3233, 3235, 3237, 3241, 3245, 3249, 3251, 3253, 3257, 3259, 3261, 3267, 3269, 3271, 3273, 3275, 3277, 3279, 3282, 3290, 3292, 3294, 3296, 3298, 3300, 3302, 3304, 3306, 3308, 3310, 3312, 3314, 3316, 3318, 3320, 3322, 3324, 3326, 3328, 3330, 3332, 3334, 3336, 3338, 3340, 3342, 3344, 3346, 3348, 3350, 3352, 3354, 3356, 3358, 3360, 3362, 3368, 3370, 3372, 3374, 3380, 3382, 3384, 3386, 3388, 3394, 3396, 3398, 3402, 3404, 3406, 3408, 3410, 3412, 3414, 3416, 3418, 3420, 3422, 3424, 3428, 3430, 3432, 3434, 3436, 3438, 3440, 3442, 3444, 3446, 3448, 3450, 3452, 3454, 3458, 3460, 3462, 3464, 3466, 3468, 3470, 3474, 3476, 3478, 3480, 3482, 3484, 3486, 3488, 3490, 3492, 3494, 3496, 3498, 3500, 3504, 3506, 3508, 3511, 3513, 3515, 3517, 3519, 3521, 3523, 3529, 3531, 3533, 3535, 3537, 3539, 3541, 3543, 3545, 3553, 3557, 3559, 3561, 3563, 3565, 3567, 3571, 3573, 3575, 3577, 3579, 3581, 3583, 3585, 3587, 3589, 3591, 3593, 3595, 3597, 3599, 3601, 3603, 3605, 3607, 3609, 3611, 3613, 3615, 3617, 3619, 3621, 3623, 3625, 3627, 3629, 3631, 3633, 3636, 3638, 3640, 3642, 3644, 3646, 3648, 3650, 3652, 3654, 3658, 3660, 3662, 3664, 3666, 3668, 3670, 3672, 3674, 3676, 3678, 3680, 3682, 3686, 3688, 3690, 3692, 3694, 3696, 3700, 3702, 3704, 3706, 3708, 3710, 3712, 3714, 3716, 3718, 3720, 3722, 3724, 3726, 3728, 3732, 3734, 3736, 3738, 3740, 3742, 3744, 3746, 3748, 3750, 3752, 3754, 3756, 3760, 3762, 3764, 3766, 3768, 3770, 3772, 3774, 3776, 3778, 3780, 3782, 3786, 3788, 3790, 3792, 3794, 3796, 3798, 3800, 3802, 3804, 3806, 3810, 3814, 3816, 3818, 3820, 3822, 3824, 3826, 3828, 3830, 3832, 3834, 3836, 3838, 3840, 3844, 3846, 3848, 3850, 3852, 3856, 3858, 3860, 3862, 3864, 3866, 3868, 3870, 3872, 3874, 3876, 3878, 3880, 3882, 3884, 3886, 3888, 3890, 3892, 3894, 3896, 3898, 3900, 3902, 3904, 3907, 3909, 3911, 3913, 3915, 3917, 3919, 3921, 3925, 3927, 3929, 3931, 3933, 3935, 3939, 3941, 3946, 3948, 3950, 3952, 3954, 3956, 3958, 3960, 3962, 3964, 3966, 3968, 3970, 3972, 3974, 3976, 3978, 3980, 3982, 3984, 3986, 3988, 3990, 3992, 3994, 3996, 3998, 4000, 4002, 4004, 4006, 4008, 4010, 4012, 4014, 4016, 4018, 4020, 4022, 4024, 4026, 4028, 4030, 4032, 4034, 4037, 4039, 4041, 4043, 4045, 4047, 4049, 4051, 4053, 4055, 4057, 4059, 4061, 4063, 4065, 4069, 4071, 4073, 4075, 4077, 4079, 4081, 4083, 4085, 4087, 4089, 4091, 4093, 4095, 4097, 4099, 4101, 4103, 4105, 4109, 4111, 4113, 4115, 4117, 4119, 4121, 4123, 4125, 4127, 4131, 4133, 4135, 4137, 4139, 4141, 4143, 4145, 4147, 4149, 4151, 4155, 4157, 4159, 4161, 4163, 4167, 4169, 4171, 4175, 4177, 4179, 4181, 4183, 4185, 4187, 4189, 4191, 4193, 4195, 4197, 4199, 4201, 4203, 4205, 4207, 4209, 4211, 4213, 4215, 4217, 4219, 4221, 4223, 4225, 4227, 4229, 4231, 4233, 4235, 4239, 4241, 4243, 4245, 4247, 4248, 4250, 4252, 4254, 4256, 4258, 4260, 4262, 4264, 4266, 4268, 4270, 4272, 4274, 4276, 4278, 4282, 4284, 4286, 4288, 4290, 4292, 4294, 4296, 4300, 4302, 4304, 4306, 4308, 4310, 4312, 4314, 4316, 4318, 4320, 4322, 4324, 4326, 4328, 4330, 4332, 4334, 4336, 4344, 4346, 4348, 4350, 4352, 4354, 4356, 4360, 4362, 4364, 4366, 4368, 4372, 4374, 4376, 4380, 4382, 4384, 4386, 4388, 4390, 4392, 4394, 4398, 4402, 4404, 4406, 4408, 4412, 4414, 4416, 4418, 4420, 4422, 4424, 4426, 4428, 4430, 4432, 4434, 4436, 4438, 4440, 4442, 4444, 4446, 4448, 4450, 4452, 4454, 4456, 4458, 4460, 4462, 4464, 4466, 4468, 4470, 4472, 4473, 4475, 4477, 4479, 4481, 4485, 4487, 4489, 4491, 4493, 4495, 4497, 4500, 4502, 4504, 4506, 4510, 4512, 4514, 4516, 4518, 4520, 4522, 4524, 4526, 4528, 4530, 4532, 4534, 4536, 4538, 4540, 4542, 4546, 4548, 4550, 4552, 4554, 4556, 4558, 4560, 4562, 4564, 4566, 4568, 4570, 4572, 4574, 4576, 4578, 4580, 4582, 4584, 4586, 4588, 4590, 4592, 4594, 4596, 4598, 4604, 4606, 4608, 4610, 4612, 4614, 4618, 4620, 4622, 4624, 4626, 4628, 4630, 4632, 4634, 4638, 4640, 4642, 4646, 4648, 4650, 4652, 4654, 4656, 4658, 4662, 4664, 4666, 4668, 4670, 4672, 4676, 4678, 4680, 4682, 4684, 4686, 4688, 4690, 4692, 4694, 4696, 4698, 4700, 4704, 4706, 4708, 4710, 4712, 4714, 4716, 4718, 4720, 4722, 4724, 4726, 4728, 4730, 4732, 4734, 4736, 4740, 4742, 4744, 4746, 4748, 4750, 4752, 4754, 4755, 4757, 4759, 4761, 4763, 4765, 4767, 4769, 4771, 4773, 4775, 4777, 4779, 4783, 4785, 4787, 4789, 4791, 4793, 4795, 4797, 4799, 4801, 4803, 4805, 4807, 4809, 4811, 4813, 4815, 4817, 4819, 4821, 4823, 4825]\n"
          ]
        }
      ]
    },
    {
      "cell_type": "code",
      "source": [
        "############ 사업자번호 기준 슬라이싱한 값들의 첫번째 값의 STRT_DATE값이 NaT인 것의 개수 ############\n",
        "count = 0\n",
        "\n",
        "for i in b:\n",
        "  if isinstance(active_history['STRT_DATE'][i], pd._libs.tslibs.nattype.NaTType) == True:\n",
        "    count += 1\n",
        "print(count)"
      ],
      "metadata": {
        "colab": {
          "base_uri": "https://localhost:8080/"
        },
        "id": "dtKm5PEujg5y",
        "outputId": "196365a6-12f2-48e1-9794-b1a573b106ba"
      },
      "execution_count": 152,
      "outputs": [
        {
          "output_type": "stream",
          "name": "stdout",
          "text": [
            "787\n"
          ]
        }
      ]
    },
    {
      "cell_type": "markdown",
      "source": [
        "    사업자번호가 같은 그룹으로 묶고난 값을 보면 한 회사가 휴업을 했다가 휴업을 취소하고 다시 휴업을 하는 등 변동폭이 많다\n",
        "\n",
        "    변동을 포함한 휴폐업 일수를 확인하기 위해서 아래의 코드를 작성하였다\n",
        "\n",
        "    \n",
        "|index| BIZ_NO|\tEND_DATE|\tSTRT_DATE|\tCLSBZ_GB|\tSTAT_OCR_DATE|\tCLOSE_DATE|\n",
        "|---|----|----|---|--|--|--|\n",
        "|6\t|사업자번호\t|2022-10-27\t|NaT\t|5\t|NaT\t|3287|\n",
        "|7\t|사업자번호\t|2013-10-27\t|NaT\t|2\t|NaT\t|979|\n",
        "|8\t|사업자번호\t|2011-02-21\t|NaT\t|5\t|NaT\t|113|\n",
        "|9\t|사업자번호\t|2010-10-31\t|NaT\t|2\t|NaT\t|174|\n",
        "|10\t|사업자번호\t|2010-05-10\t|NaT\t|5\t|NaT\t|7|\n",
        "|11\t|사업자번호\t|2010-05-03\t|NaT\t|2\t|NaT\t|NaN|\n",
        "\n",
        "    위 표를 예시로, 들자면 \n",
        "    1. 인덱스 11번 = 임의의 날 부터 2번(휴업)을 신청해 2010/5/3까지 N일을 휴업을 진행했다.\n",
        "    2. 인덱스 10번 = 2010/5/3 부터 5번(휴업취소)을 신청해 2010/5/10까지 7일을 일했다(존속기간)\n",
        "    3. 인덱스 9번 = 2010/5/10 부터 2번(휴업)을 신청해 2010/10/31까지 174일 휴업을 진행했다.\n",
        "    4. 인덱스 8번 = 2010/10/31 부터 5번(휴업취소)을 신청해 2011/02/21까지 113일을 일했다\n",
        "    5. 인덱스 7번 = 2011/02/21 부터 2번(휴업)을 신청해 2031/10/27까지 979일 휴업을 진행했다. \n",
        "    6. 인덱스 6번 = 2013/10/27 부터 5번(휴업취소)을 신청해 2022/10/27(=9999/12/31)까지 3287일을 일했다. \n",
        "      \n",
        "    즉, 임의의 기간부터 가장 최신을 뜻하는 2022/10/27 까지 \n",
        "    N일 +7 -174 + 113 - 979 + 3287 = 2254 + N일 동안 기업이 존속했다고 볼 수 있다."
      ],
      "metadata": {
        "id": "nJX81L18u04E"
      }
    },
    {
      "cell_type": "code",
      "source": [
        "# 휴폐업기간을 계산할 컬럼 생성\n",
        "active_history['CLOSE_DATE'] = None \n",
        "\n",
        "# b함수는 사업자등록번호가 같은 인덱스 묶음의 리스트\n",
        "for i in range(len(b)):\n",
        "    try:\n",
        "      # 같은 사업자번호를 가진 것끼리 슬라이싱\n",
        "      active_history[b[i]:b[i+1]]\n",
        "      # 같은 사업자번호를 가진 데이터의 길이 \n",
        "      length = (b[i+1] - b[i])\n",
        "\n",
        "      # 사업자번호 묶음의 기간 계산하기 위한 코드\n",
        "      for j in list(range(length)):\n",
        "        \n",
        "        # 사업자번호 묶음의  마지막 행의 STRT_DATE값이 NaT 값이면 CLOSE_DATE값도 NaT으로 설정\n",
        "        if ((b[i+1]-1) == ((b[i+1]-1) - (j))) & (isinstance(active_history['STRT_DATE'][(b[i+1]-1) - (j)], pd._libs.tslibs.nattype.NaTType) == True) == True:\n",
        "          active_history['CLOSE_DATE'][(b[i+1]-1) - (j)] = None\n",
        "\n",
        "        else:\n",
        "          # NaT값인지 확인 \n",
        "          if isinstance(active_history['STRT_DATE'][(b[i+1]-1) - (j)], pd._libs.tslibs.nattype.NaTType) == True:\n",
        "            # NaT값이면 바로 아래 행의 STRT_DATE값이 NaT인지 확인\n",
        "            if isinstance(active_history['STRT_DATE'][(b[i+1]-1) - (j-1) ], pd._libs.tslibs.nattype.NaTType) == True:\n",
        "              # 바로 아래도 NaT값이면 기존 END_DATE랑 바로 아래 END_DATE랑 날짜를 빼서 휴폐업기간 계산\n",
        "              active_history['CLOSE_DATE'][(b[i+1]-1) - (j)] = (active_history['END_DATE'][(b[i+1]-1)- (j)] - active_history['END_DATE'][(b[i+1]-1) - (j-1)]).days\n",
        "            else:\n",
        "              # 바로 아래 값이 NaT가 아니면, 기존 END_DATE랑 아래 END_DATE랑 날짜를 빼서 휴폐업기간 계산\n",
        "              active_history['CLOSE_DATE'][(b[i+1]-1) - (j)] = (active_history['END_DATE'][(b[i+1]-1) - (j)] - active_history['END_DATE'][(b[i+1]-1) - (j-1)]).days\n",
        "          # NaT값이 아니라면 END_DATE 에서 STRT_DATE값을 빼서 휴폐업기간 계산    \n",
        "          else:\n",
        "            active_history['CLOSE_DATE'][(b[i+1]-1) - (j)] = (active_history['END_DATE'][(b[i+1]-1) - (j)] - active_history['STRT_DATE'][(b[i+1]-1) - (j)]).days\n",
        "\n",
        "    ################################################ b의 값 out of range 예외처리 ################################################\n",
        "    except:\n",
        "      active_history[4825:4827]\n",
        "      # 같은 사업자번호를 가진 데이터의 길이 \n",
        "      length = 2\n",
        "      # 사업자번호 묶음의 기간 계산하기 위한 코드\n",
        "      for h in list(range(length)):\n",
        "        \n",
        "        # 사업자번호 묶음의 첫 번째 행의 STRT_DATE값이 NaT 값이면 CLOSE_DATE값도 NaT으로 설정\n",
        "        if (4826 == ((4827-1) - (h))) & (isinstance(active_history['STRT_DATE'][(4827-1) - (h)], pd._libs.tslibs.nattype.NaTType) == True) == True:\n",
        "          active_history['CLOSE_DATE'][(4827-1) - (h)] = None\n",
        "          \n",
        "        else:\n",
        "          # NaT값인지 확인 \n",
        "          if isinstance(active_history['STRT_DATE'][(4827-1) - (h)], pd._libs.tslibs.nattype.NaTType) == True:\n",
        "            # NaT값이면 바로 아래 행의 STRT_DATE값이 NaT인지 확인\n",
        "            if isinstance(active_history['STRT_DATE'][(4827-1) - (h+1) ], pd._libs.tslibs.nattype.NaTType) == True:\n",
        "              # 바로 아래도 NaT값이면 기존 END_DATE랑 바로 아래 END_DATE랑 날짜를 빼서 휴폐업기간 계산\n",
        "              active_history['CLOSE_DATE'][(4827-1) - (h)] = (active_history['END_DATE'][(4827-1) - (h)] - active_history['END_DATE'][(4827-1) - (h-1)]).days\n",
        "            else:\n",
        "              # 바로 아래 값이 NaT가 아니면, 기존 END_DATE랑 아래 END_DATE랑 날짜를 빼서 휴폐업기간 계산\n",
        "              active_history['CLOSE_DATE'][(4827-1) - (h)] = (active_history['END_DATE'][(4827-1) - (h)] - active_history['END_DATE'][(4827-1) - (h-1)]).days\n",
        "          # NaT값이 아니라면 END_DATE 에서 STRT_DATE값을 빼서 휴폐업기간 계산    \n",
        "          else:\n",
        "            active_history['CLOSE_DATE'][(4827-1) - (h)] = (active_history['END_DATE'][(4827-1) - (h)] - active_history['STRT_DATE'][(4827-1) - (h)]).days\n",
        "    ####################################################################################################\n",
        "\n"
      ],
      "metadata": {
        "id": "TJlPAnPv4Pj4"
      },
      "execution_count": 153,
      "outputs": []
    },
    {
      "cell_type": "markdown",
      "source": [
        "---\n",
        "- 사업자별 존속기간 확인\n",
        "---"
      ],
      "metadata": {
        "id": "26uVqnczOixZ"
      }
    },
    {
      "cell_type": "code",
      "source": [
        "active_history['DURATION'] = None \n",
        "\n",
        "for i in range(len(b)):\n",
        "  try:\n",
        "    # 같은 사업자번호를 가진 것끼리 슬라이싱\n",
        "    active_history[b[i]:b[i+1]]\n",
        "    # 같은 사업자번호를 가진 데이터의 길이 \n",
        "    length = (b[i+1] - b[i])\n",
        "    \n",
        "    count = 0 \n",
        "    for j in list(range(length)):\n",
        "      # 휴폐업 이력의 숫자\n",
        "      number = active_history['CLSBZ_GB'][(b[i+1]-1) - (j)]\n",
        "      # 휴폐업 일수\n",
        "      date = active_history['CLOSE_DATE'][(b[i+1]-1) - (j)]\n",
        "      # 휴폐업 일수의 값이 NaN일 경우에는 넘어가야 하기 때문에 try except문 사용 \n",
        "      if date != None:\n",
        "        if number in (1,2,3,4):\n",
        "          count -= date\n",
        "        else: \n",
        "          count += date\n",
        "      else: \n",
        "        pass\n",
        "\n",
        "    active_history['DURATION'][b[i]] = count\n",
        "\n",
        "  ##################### b의 값 out of range 예외처리 #####################\n",
        "  except:\n",
        "    active_history[4825:4827]\n",
        "    length = 2\n",
        "    \n",
        "    count = 0 \n",
        "    for j in list(range(length)):\n",
        "      number = active_history['CLSBZ_GB'][(4827-1) - (j)]\n",
        "      date = active_history['CLOSE_DATE'][(4827-1) - (j)]\n",
        "      if date != None:\n",
        "        if number in (1,2,3,4):\n",
        "          count -= date\n",
        "        else: \n",
        "          count += date\n",
        "      else: \n",
        "        pass\n",
        "\n",
        "    active_history['DURATION'][b[i]] = count\n",
        "    ##################################################################"
      ],
      "metadata": {
        "id": "Zqp5vCvDOn9Y"
      },
      "execution_count": 165,
      "outputs": []
    },
    {
      "cell_type": "code",
      "source": [
        "active_history"
      ],
      "metadata": {
        "id": "_FgF2UVjfBAU"
      },
      "execution_count": null,
      "outputs": []
    },
    {
      "cell_type": "code",
      "source": [
        "# DURATION 값이 잘 들어갔는지 확인\n",
        "print('사업자등록번호의 수:',len(set(active_history['BIZ_NO'].tolist())))\n",
        "print('존속기간이 작성된 행의 수:',len(active_history) - active_history['DURATION'].isnull().sum())"
      ],
      "metadata": {
        "colab": {
          "base_uri": "https://localhost:8080/"
        },
        "id": "jq1_QUKfO1DN",
        "outputId": "c396333a-54dc-4e19-8e61-09d3954926f6"
      },
      "execution_count": 168,
      "outputs": [
        {
          "output_type": "stream",
          "name": "stdout",
          "text": [
            "사업자등록번호의 수: 2083\n",
            "존속기간이 작성된 행의 수: 2083\n"
          ]
        }
      ]
    },
    {
      "cell_type": "code",
      "source": [
        "print('존속기간의 값이 음수인 수:',len(active_history[active_history['DURATION'] < 0]))"
      ],
      "metadata": {
        "colab": {
          "base_uri": "https://localhost:8080/"
        },
        "id": "MlnqrGY8en-S",
        "outputId": "ba50609e-525d-499a-dc9a-1c9d4799309c"
      },
      "execution_count": 169,
      "outputs": [
        {
          "output_type": "stream",
          "name": "stdout",
          "text": [
            "존속기간의 값이 음수인 수: 219\n"
          ]
        }
      ]
    },
    {
      "cell_type": "markdown",
      "source": [
        "- 휴폐업을 오랜 기간동안 진행하고 취소를 한지 얼마되지 않았다면 음수가 나올 수도 있다.   \n",
        "특히 END_DATE값이 가장 최신(=2022-10-27)을 의미하는 값이 있다면 음수가 나와도 무방할 것이다."
      ],
      "metadata": {
        "id": "CpgGbU5FgxtT"
      }
    },
    {
      "cell_type": "code",
      "source": [
        "# 음수의 값이 나오는 데이터프레임 생성 \n",
        "minus = active_history[active_history['DURATION'] < 0]\n",
        "minus = minus.reset_index(drop = True)\n",
        "\n",
        "# 가장 최신(2022-10-27)의 값을 가지는 기준점\n",
        "standard = active_history['END_DATE'][0]\n",
        "\n",
        "count = len(minus)\n",
        "for i in range(len(minus)):\n",
        "  if minus['END_DATE'][i] == standard:\n",
        "    count -= 1\n",
        "print('가장 최신(=2022-10-27)의 값을 가지지 않으면서, DURATION의 값이 음수인 개수:', count)"
      ],
      "metadata": {
        "colab": {
          "base_uri": "https://localhost:8080/"
        },
        "id": "h77VYEQHbAsR",
        "outputId": "fef85f79-8efd-441c-f5ad-ba1bff657908"
      },
      "execution_count": 185,
      "outputs": [
        {
          "output_type": "stream",
          "name": "stdout",
          "text": [
            "가장 최신(=2022-10-27)의 값을 가지지 않으면서, DURATION의 값이 음수인 개수: 0\n"
          ]
        }
      ]
    },
    {
      "cell_type": "markdown",
      "source": [
        "---\n",
        "### 7. 기업개요_외감에 있는 기업들이 재무제표 데이터에도 있는가?\n",
        "---\n",
        "    기업개요_외감에 있는 28982개의 기업들의 재무제표는  \n",
        "    재무제표 데이터에 모두 들어있음을 확인"
      ],
      "metadata": {
        "id": "nO8Qv_wfyrl7"
      }
    },
    {
      "cell_type": "code",
      "source": [
        "active_count = 0\n",
        "\n",
        "for i in range(len(active_ex)):\n",
        "  try:\n",
        "    number = active_ex['사업자등록번호'][i]\n",
        "    finance.query(f\"사업자번호 == {number}\")\n",
        "    active_count += 1\n",
        "  except:\n",
        "    pass\n",
        "print('액티브 \"기업개요_외감\"의 총 숫자:',len(active_ex))\n",
        "print('액티브 \"기업개요_외감\"에 들어있는 기업들이 재무재표 데이터에 등록된 데이터 수:',active_count)"
      ],
      "metadata": {
        "colab": {
          "base_uri": "https://localhost:8080/"
        },
        "id": "pfizKDZifAjF",
        "outputId": "7b1ecbe6-5a73-4aec-c076-15eea0b3475b"
      },
      "execution_count": 42,
      "outputs": [
        {
          "output_type": "stream",
          "name": "stdout",
          "text": [
            "액티브 \"기업개요_외감\"의 총 숫자: 28982\n",
            "액티브 \"기업개요_외감\"에 들어있는 기업들이 재무재표 데이터에 등록된 데이터 수: 28982\n"
          ]
        }
      ]
    },
    {
      "cell_type": "markdown",
      "source": [
        "---\n",
        "### 8. 기타\n",
        "---"
      ],
      "metadata": {
        "id": "3KbQN3uSM4nr"
      }
    },
    {
      "cell_type": "markdown",
      "source": [
        "---\n",
        "- 개인법인 구분에서 개인 데이터만 존재\n",
        "---"
      ],
      "metadata": {
        "id": "9eQNMvnkM7wm"
      }
    },
    {
      "cell_type": "code",
      "source": [
        "# Null값은 없음\n",
        "active_normal['개인법인구분 1.법인 2.개인'].isnull().sum()"
      ],
      "metadata": {
        "colab": {
          "base_uri": "https://localhost:8080/"
        },
        "id": "FrgyMuO4OM0H",
        "outputId": "39aedcac-9a7b-4287-d0e8-637f556958e8"
      },
      "execution_count": 43,
      "outputs": [
        {
          "output_type": "execute_result",
          "data": {
            "text/plain": [
              "0"
            ]
          },
          "metadata": {},
          "execution_count": 43
        }
      ]
    },
    {
      "cell_type": "code",
      "source": [
        "print('#'*70)\n",
        "print(len(active_normal))\n",
        "print(active_normal['개인법인구분 1.법인 2.개인'].value_counts())\n",
        "print('#'*70)\n",
        "print(len(active_ex))\n",
        "print(active_ex['개인법인구분 1.법인 2.개인'].value_counts())\n",
        "print('#'*70)"
      ],
      "metadata": {
        "colab": {
          "base_uri": "https://localhost:8080/"
        },
        "id": "ortLgsRZM6y6",
        "outputId": "e817cb48-f762-4f1b-c1f6-30201a3ab70a"
      },
      "execution_count": 44,
      "outputs": [
        {
          "output_type": "stream",
          "name": "stdout",
          "text": [
            "######################################################################\n",
            "198651\n",
            "1    198651\n",
            "Name: 개인법인구분 1.법인 2.개인, dtype: int64\n",
            "######################################################################\n",
            "28982\n",
            "1    28982\n",
            "Name: 개인법인구분 1.법인 2.개인, dtype: int64\n",
            "######################################################################\n"
          ]
        }
      ]
    },
    {
      "cell_type": "markdown",
      "source": [
        "---\n",
        "- \"기업개요_외감\" 데이터에서 본지점 구분에서는 본점의 비율이 앞도적으로 높다\n",
        "---\n",
        "    본점 : 26070\n",
        "    분점 : 2912"
      ],
      "metadata": {
        "id": "tyu1E43-QIfR"
      }
    },
    {
      "cell_type": "code",
      "source": [
        "# Null값은 없음\n",
        "print('#'*70)\n",
        "print('Null값의 수:',active_ex['본점지점구분 1.본점 2.지점'].isnull().sum())\n",
        "print('#'*70)\n",
        "print(active_ex['본점지점구분 1.본점 2.지점'].value_counts())\n",
        "print('#'*70)"
      ],
      "metadata": {
        "colab": {
          "base_uri": "https://localhost:8080/"
        },
        "id": "0alegz2vP_b0",
        "outputId": "59c425fe-a62f-4393-8415-3e8ebc0e3cb8"
      },
      "execution_count": 45,
      "outputs": [
        {
          "output_type": "stream",
          "name": "stdout",
          "text": [
            "######################################################################\n",
            "Null값의 수: 0\n",
            "######################################################################\n",
            "1    26070\n",
            "2     2912\n",
            "Name: 본점지점구분 1.본점 2.지점, dtype: int64\n",
            "######################################################################\n"
          ]
        }
      ]
    },
    {
      "cell_type": "markdown",
      "source": [
        "---\n",
        "- \"기업개요\" 데이터에서 본지점 구분에서는 본점의 비율이 앞도적으로 높다\n",
        "---\n",
        "    본점 : 193740\n",
        "    분점 : 4911"
      ],
      "metadata": {
        "id": "FcgJaJuDNPz4"
      }
    },
    {
      "cell_type": "code",
      "source": [
        "# Null값은 없음\n",
        "print('#'*70)\n",
        "print('Null값의 수:',active_normal['본점지점구분 1.본점 2.지점'].isnull().sum())\n",
        "print('#'*70)\n",
        "print(active_normal['본점지점구분 1.본점 2.지점'].value_counts())\n",
        "print('#'*70)"
      ],
      "metadata": {
        "colab": {
          "base_uri": "https://localhost:8080/"
        },
        "id": "Sseb4HUaNB9I",
        "outputId": "bf8119e8-79a5-405a-8a43-397ca3a172fc"
      },
      "execution_count": 46,
      "outputs": [
        {
          "output_type": "stream",
          "name": "stdout",
          "text": [
            "######################################################################\n",
            "Null값의 수: 0\n",
            "######################################################################\n",
            "1    193740\n",
            "2      4911\n",
            "Name: 본점지점구분 1.본점 2.지점, dtype: int64\n",
            "######################################################################\n"
          ]
        }
      ]
    },
    {
      "cell_type": "markdown",
      "source": [
        "---\n",
        "- \"기업개요_외감\" 데이터에서 벤처기업 여부는 아닌 경우가 대부분이다.\n",
        "---\n",
        "    벤처기업 O: 2812\n",
        "    벤처기업 X: 26170"
      ],
      "metadata": {
        "id": "IMFOuWIxQO6O"
      }
    },
    {
      "cell_type": "code",
      "source": [
        "# Null값은 없음\n",
        "print('#'*70)\n",
        "print('Null값의 수:',active_ex['벤처기업여부'].isnull().sum())\n",
        "print('#'*70)\n",
        "print(active_ex['벤처기업여부'].value_counts())\n",
        "print('#'*70)"
      ],
      "metadata": {
        "colab": {
          "base_uri": "https://localhost:8080/"
        },
        "id": "Wg7DO1MXQRzj",
        "outputId": "aad6e4fe-b22c-40ba-f156-0ab5bddc6ea7"
      },
      "execution_count": 47,
      "outputs": [
        {
          "output_type": "stream",
          "name": "stdout",
          "text": [
            "######################################################################\n",
            "Null값의 수: 0\n",
            "######################################################################\n",
            "N    26170\n",
            "Y     2812\n",
            "Name: 벤처기업여부, dtype: int64\n",
            "######################################################################\n"
          ]
        }
      ]
    },
    {
      "cell_type": "markdown",
      "source": [
        "---\n",
        "- \"기업개요\" 데이터에서 벤처기업 여부는 아닌 경우가 대부분이다.\n",
        "---\n",
        "    벤처기업 O: 27809\n",
        "    벤처기업 X: 170842"
      ],
      "metadata": {
        "id": "XsIOc6W_RNii"
      }
    },
    {
      "cell_type": "code",
      "source": [
        "# Null값은 없음\n",
        "print('#'*70)\n",
        "print('Null값의 수:',active_normal['벤처기업여부'].isnull().sum())\n",
        "print('#'*70)\n",
        "print(active_normal['벤처기업여부'].value_counts())\n",
        "print('#'*70)"
      ],
      "metadata": {
        "colab": {
          "base_uri": "https://localhost:8080/"
        },
        "id": "67oYWsr5QRmu",
        "outputId": "f5d9d85b-2d5d-407e-a037-2976a7e31acb"
      },
      "execution_count": 48,
      "outputs": [
        {
          "output_type": "stream",
          "name": "stdout",
          "text": [
            "######################################################################\n",
            "Null값의 수: 0\n",
            "######################################################################\n",
            "N    170842\n",
            "Y     27809\n",
            "Name: 벤처기업여부, dtype: int64\n",
            "######################################################################\n"
          ]
        }
      ]
    },
    {
      "cell_type": "markdown",
      "source": [
        "---\n",
        "# 휴폐업 데이터 살펴보기\n",
        "---"
      ],
      "metadata": {
        "id": "_Hm6rpPQ3_E3"
      }
    },
    {
      "cell_type": "markdown",
      "source": [
        "---\n",
        "### 1. 컬럼명 한글로 변경\n",
        "---"
      ],
      "metadata": {
        "id": "aizfgT-y4IWZ"
      }
    },
    {
      "cell_type": "code",
      "source": [
        "# 컬럼명이 일치하는 인덱스 확인\n",
        "close_name = close_normal.columns.tolist()\n",
        "\n",
        "\n",
        "close_list = []\n",
        "for i in close_name:\n",
        "  try:\n",
        "    close_list.append(eng.index(i))\n",
        "  except:\n",
        "    pass\n",
        "\n",
        "print(close_list)\n",
        "print(len(close_list))\n",
        "  \n",
        "# 한글로 컬럼명 변경\n",
        "for i in close_list:\n",
        "  close_normal = close_normal.rename(columns={eng[i] : kor[i]})\n",
        "\n",
        "print(close_normal.columns)"
      ],
      "metadata": {
        "colab": {
          "base_uri": "https://localhost:8080/"
        },
        "id": "O3prjBI6R0jQ",
        "outputId": "4ad40784-74c3-4fd0-9213-c503eae9213c"
      },
      "execution_count": 49,
      "outputs": [
        {
          "output_type": "stream",
          "name": "stdout",
          "text": [
            "[0, 1, 2, 3, 4, 5, 6, 7, 8, 9, 10, 11, 12, 13, 14, 15, 16, 17, 18, 19, 20, 21, 22, 23, 24, 25, 26, 27]\n",
            "28\n",
            "Index(['사업자등록번호', '기업접두명', '기업명', '기업접미명', '기업영문명', '업종', '기업규모',\n",
            "       '공기업구분 1.공기업 2.일반기업', '개인법인구분 1.법인 2.개인', '본점지점구분 1.본점 2.지점',\n",
            "       '국외투자법인여부', '벤처기업여부', '상장코드', '산업코드차수', '산업코드1', '산업코드2', '산업코드3',\n",
            "       '공공기관유형', '중견기업보호여부', '본점기업코드', '설립일자', '설립구분', '상장일자', '주요사업내용', '국가명',\n",
            "       '홈페이지URL', '대표자명', '직원수'],\n",
            "      dtype='object')\n"
          ]
        }
      ]
    },
    {
      "cell_type": "markdown",
      "source": [
        "---\n",
        "### 2. 기업개요에 있는 기업들이 재무제표 데이터에도 있는가?\n",
        "---\n",
        "\n",
        "    기업개요에 있는 6739개의 기업들의 재무제표는  \n",
        "    재무제표 데이터에 모두 들어있음을 확인\n",
        "    "
      ],
      "metadata": {
        "id": "GqIu3tpM4pmE"
      }
    },
    {
      "cell_type": "code",
      "source": [
        "close_count = 0\n",
        "\n",
        "for i in range(len(close_normal)):\n",
        "  try:\n",
        "    number = close_normal['사업자등록번호'][i]\n",
        "    finance.query(f\"사업자번호 == {number}\")\n",
        "    close_count += 1\n",
        "  except:\n",
        "    pass\n",
        "print('휴폐업 중소법인 재무보유.xlsx의 총 숫자:',len(close_normal))\n",
        "print('휴페업 데이터 안에 기업 중 재무재표에 등록된 데이터 수:',close_count)"
      ],
      "metadata": {
        "colab": {
          "base_uri": "https://localhost:8080/"
        },
        "id": "f0KxzrfVdurD",
        "outputId": "9aa0c94a-f95a-4fdd-c7f9-5c93a6e5fce0"
      },
      "execution_count": 50,
      "outputs": [
        {
          "output_type": "stream",
          "name": "stdout",
          "text": [
            "휴폐업 중소법인 재무보유.xlsx의 총 숫자: 6739\n",
            "휴페업 데이터 안에 기업 중 재무재표에 등록된 데이터 수: 6739\n"
          ]
        }
      ]
    },
    {
      "cell_type": "markdown",
      "source": [
        "---\n",
        "### 3. 액티브 \"기업개요_외감\" 과 \"휴페업\" 중복 확인 (사업자번호 기준)\n",
        "---\n",
        "\n",
        "    액티브 + 휴페업 = 35721  \n",
        "    재무제표 데이터 중복제거 = 35709  \n",
        "\n",
        "    액티브 \"기업개요_외감\" 과 \"휴폐업\"의 사업자등록번호를 기준으로 재무제표에 들어있는지 확인 했을 때에는 모두 빠짐없이 들어있음을 확인하였다  \n",
        "    재무제표의 중복을 제거한 갯수와 위의 2개를 합친 갯수가 일치하지 않는다  \n",
        "      \n",
        "\n",
        "    12개는 무엇?"
      ],
      "metadata": {
        "id": "1vupb0-Zmc3V"
      }
    },
    {
      "cell_type": "code",
      "source": [
        "print('중복제거 전 사업자번호 등록 수:',len(finance['사업자번호'].tolist()))\n",
        "print('중복제거 후 사업자번호 등록 수:',len(set(finance['사업자번호'].tolist())))"
      ],
      "metadata": {
        "id": "3aHDIH5jAlPr",
        "colab": {
          "base_uri": "https://localhost:8080/"
        },
        "outputId": "7fe63a45-26f2-4d94-9b09-afff3bf05b3d"
      },
      "execution_count": 51,
      "outputs": [
        {
          "output_type": "stream",
          "name": "stdout",
          "text": [
            "중복제거 전 사업자번호 등록 수: 109142\n",
            "중복제거 후 사업자번호 등록 수: 35709\n"
          ]
        }
      ]
    },
    {
      "cell_type": "markdown",
      "source": [
        "---\n",
        "- 액티브와 휴페업의 중복 데이터 확인1\n",
        "---"
      ],
      "metadata": {
        "id": "57o3B3R2mlAg"
      }
    },
    {
      "cell_type": "code",
      "source": [
        "qq = set(finance['사업자번호'].tolist())\n",
        "\n",
        "count = 0\n",
        "for i in range(len(active_ex)):\n",
        "  if active_ex['사업자등록번호'][i] not in qq :\n",
        "    count += 0 \n",
        "print(count)\n",
        "\n",
        "for j in range(len(close_normal)):\n",
        "  if close_normal['사업자등록번호'][j] not in qq:\n",
        "    count += 0\n",
        "print(count)"
      ],
      "metadata": {
        "id": "1_1FZHQbmA_l",
        "colab": {
          "base_uri": "https://localhost:8080/"
        },
        "outputId": "d4f8dd09-6680-4495-d60d-7e7334bd6700"
      },
      "execution_count": 52,
      "outputs": [
        {
          "output_type": "stream",
          "name": "stdout",
          "text": [
            "0\n",
            "0\n"
          ]
        }
      ]
    },
    {
      "cell_type": "markdown",
      "source": [
        "---\n",
        "- 액티브와 휴페업의 중복 데이터 확인2\n",
        "---"
      ],
      "metadata": {
        "id": "F6_GTvxsmoYn"
      }
    },
    {
      "cell_type": "code",
      "source": [
        "test = pd.concat([close_normal['사업자등록번호'], active_ex['사업자등록번호']], ignore_index = True)\n",
        "print(len(set(test)))\n",
        "print(test.isnull().sum())"
      ],
      "metadata": {
        "colab": {
          "base_uri": "https://localhost:8080/"
        },
        "id": "aQEHOit-kkEn",
        "outputId": "e7fc78ed-36fd-404a-fa31-a3beeaf8308a"
      },
      "execution_count": 53,
      "outputs": [
        {
          "output_type": "stream",
          "name": "stdout",
          "text": [
            "35721\n",
            "0\n"
          ]
        }
      ]
    },
    {
      "cell_type": "code",
      "source": [
        "close_normal['개인법인구분 1.법인 2.개인'].value_counts()"
      ],
      "metadata": {
        "colab": {
          "base_uri": "https://localhost:8080/"
        },
        "id": "h4cMKan3Bv-O",
        "outputId": "50d4bcc1-e17b-4917-a921-4e548777e177"
      },
      "execution_count": 54,
      "outputs": [
        {
          "output_type": "execute_result",
          "data": {
            "text/plain": [
              "1    6739\n",
              "Name: 개인법인구분 1.법인 2.개인, dtype: int64"
            ]
          },
          "metadata": {},
          "execution_count": 54
        }
      ]
    },
    {
      "cell_type": "code",
      "source": [
        "active_ex.shape"
      ],
      "metadata": {
        "colab": {
          "base_uri": "https://localhost:8080/"
        },
        "id": "9u6AgpP6MFtr",
        "outputId": "f4a2d0ee-0a37-4cdf-a02e-036fc8a60133"
      },
      "execution_count": 55,
      "outputs": [
        {
          "output_type": "execute_result",
          "data": {
            "text/plain": [
              "(28982, 29)"
            ]
          },
          "metadata": {},
          "execution_count": 55
        }
      ]
    },
    {
      "cell_type": "code",
      "source": [],
      "metadata": {
        "id": "6cPxqvvkbKR6"
      },
      "execution_count": 56,
      "outputs": []
    }
  ]
}
