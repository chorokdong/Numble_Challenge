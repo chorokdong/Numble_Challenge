{
  "nbformat": 4,
  "nbformat_minor": 0,
  "metadata": {
    "colab": {
      "provenance": []
    },
    "kernelspec": {
      "name": "python3",
      "display_name": "Python 3"
    },
    "language_info": {
      "name": "python"
    }
  },
  "cells": [
    {
      "cell_type": "markdown",
      "source": [
        "---\n",
        "# 라이브러리 불러오기\n",
        "----"
      ],
      "metadata": {
        "id": "ylBpzGTyxs4m"
      }
    },
    {
      "cell_type": "code",
      "source": [
        "import pandas as pd \n",
        "import numpy as np \n",
        "import matplotlib.pyplot as plt \n",
        "import seaborn as sns \n",
        "from datetime import date, datetime, timedelta\n",
        "pd.set_option('display.max_columns', None)\n",
        "import warnings\n",
        "warnings.filterwarnings('ignore')"
      ],
      "metadata": {
        "id": "pF_QwxlngVVw"
      },
      "execution_count": 1,
      "outputs": []
    },
    {
      "cell_type": "markdown",
      "source": [
        "- data_history = 액티브 휴폐업이력 Sheet + 휴폐업 휴폐업이력 Sheet\n",
        "  \n",
        "- data = 액티브 기업개요_외감 Sheet + 휴폐업 기업개요 Sheet \n",
        "\n",
        "- finance = 재무 데이터 수정 본"
      ],
      "metadata": {
        "id": "JxFLsimxThcH"
      }
    },
    {
      "cell_type": "markdown",
      "source": [
        "---\n",
        "# 데이터셋 불러오기\n",
        "----"
      ],
      "metadata": {
        "id": "KsMtzNXhxzxO"
      }
    },
    {
      "cell_type": "code",
      "execution_count": 2,
      "metadata": {
        "id": "o9ZnL1_G2apU"
      },
      "outputs": [],
      "source": [
        "data_history = pd.read_csv('/content/drive/MyDrive/Numble_Challenge/data/휴폐업이력_합본.csv')\n",
        "data = pd.read_csv('/content/drive/MyDrive/Numble_Challenge/data/엑티브_휴폐업_합본.csv')\n",
        "finance = pd.read_csv('/content/drive/MyDrive/Numble_Challenge/data/재무데이터_수정.csv')\n",
        "del data_history['Unnamed: 0']\n",
        "del data['Unnamed: 0']\n",
        "del finance['Unnamed: 0']"
      ]
    },
    {
      "cell_type": "code",
      "source": [
        "print('액티브 + 휴폐업 데이터셋 크기:',data.shape)\n",
        "print('휴폐업 이력이 있는 데이터셋 크기:',data_history.shape)\n",
        "print('재무 데이터셋 크기:',finance.shape)"
      ],
      "metadata": {
        "colab": {
          "base_uri": "https://localhost:8080/"
        },
        "id": "WAEsylv0gV_6",
        "outputId": "789e797d-014c-431d-e28b-5cd0585114a6"
      },
      "execution_count": 3,
      "outputs": [
        {
          "output_type": "stream",
          "name": "stdout",
          "text": [
            "액티브 + 휴폐업 데이터셋 크기: (35721, 31)\n",
            "휴폐업 이력이 있는 데이터셋 크기: (11667, 9)\n",
            "재무 데이터셋 크기: (109142, 53)\n"
          ]
        }
      ]
    },
    {
      "cell_type": "markdown",
      "source": [
        "---\n",
        "# 0. dataset 구성\n",
        "---\n",
        "- 예시는 아래와 같이 구성\n",
        "\n",
        "|사업자번호||섹터||년도||기업매출||~~~||~~~||~~~||~~~|\n",
        "|---||---||---||---||---||---||---||---|\n",
        "|1234||A||20210||10000||10000||10000||10000||10000|\n",
        "|1234||A||2021||20000||10000||10000||10000||10000|\n",
        "|5678||B||2018||5000||10000||10000||10000||10000|\n",
        "|5678||B||2020||17000||10000||10000||10000||10000|"
      ],
      "metadata": {
        "id": "Qx3mrXHVSTDf"
      }
    },
    {
      "cell_type": "markdown",
      "source": [
        "---\n",
        "### 0-1. 결산년월의 월이 연말(=1231)로 설정되지 않은 값 제거\n",
        "----"
      ],
      "metadata": {
        "id": "bFe1XoTNZCYT"
      }
    },
    {
      "cell_type": "code",
      "source": [
        "finance['결산년월'] = finance['결산년월'].astype(str)"
      ],
      "metadata": {
        "id": "Az_IYNVAXnIU"
      },
      "execution_count": 4,
      "outputs": []
    },
    {
      "cell_type": "code",
      "source": [
        "print('데이터의 수 :',len(finance))\n",
        "print('결산년월이 월말(=1231)인 값의 수 :',len(finance[finance['결산년월'].str.contains('1231')]))\n",
        "print('결산년월에서 제거되는 데이터 수 :',len(finance) - len(finance[finance['결산년월'].str.contains('1231')]))"
      ],
      "metadata": {
        "colab": {
          "base_uri": "https://localhost:8080/"
        },
        "id": "VeQSNS_kS31k",
        "outputId": "980c2d17-e84b-41d9-cf96-1b84ba4c6597"
      },
      "execution_count": 5,
      "outputs": [
        {
          "output_type": "stream",
          "name": "stdout",
          "text": [
            "데이터의 수 : 109142\n",
            "결산년월이 월말(=1231)인 값의 수 : 105141\n",
            "결산년월에서 제거되는 데이터 수 : 4001\n"
          ]
        }
      ]
    },
    {
      "cell_type": "code",
      "source": [
        "finance = finance[finance['결산년월'].str.contains('1231')]\n",
        "finance = finance.reset_index(drop = True)\n",
        "len(finance)\n"
      ],
      "metadata": {
        "colab": {
          "base_uri": "https://localhost:8080/"
        },
        "id": "PvYWHqmOYTD2",
        "outputId": "1e7c259c-50df-44e8-d0a3-be04388c2112"
      },
      "execution_count": 6,
      "outputs": [
        {
          "output_type": "execute_result",
          "data": {
            "text/plain": [
              "105141"
            ]
          },
          "metadata": {},
          "execution_count": 6
        }
      ]
    },
    {
      "cell_type": "markdown",
      "source": [
        "---\n",
        "### 표준산업분류(=섹터) 분류 표\n",
        "----\n",
        "\n",
        "GCIS 산업분류체계표 기준 11개를 기준으로 표준산업분류(총 21개)를 분류\n",
        "\n",
        "1. 에너지 [Energy] = 전기,가스, 증기 및 공기 조절 공급업 (D)  \n",
        "\n",
        "2. 소재 [Materials] = 수도,하수 및 폐기물 처리, 원료 재생업 (E)\n",
        "3. 산업재 [Industrials] = 광업 (B) / 제조업 (C) / 건설업 (F) / 운수 및 창고업 (H)\n",
        "4. 자유 소비재 [Discretionary] = 협회 및 단체, 수리 및 기타 개인 서비스업 (S) / 예술, 스포츠 및 여가관련 서비스업 (R) / 가구내 고용활동 및 달리 분류되지 않은 자가소비 생산활동 (T) / 교육 서비스업 (P) / 도매 및 소매업 (G)\n",
        "5. 필수 소비재 [Staples] = 숙박 및 음식점업 (I) / 농업,임업 및 어업 (A)\n",
        "6. 건강관리 [Health] = 보건업 및 사회복지 서비스업 (Q)\n",
        "7. 금융 [Financials] = 금융 및 보험업 (K)\n",
        "8. 정보기술 [Technology] = 정보통신업 (J) / 전문, 과학 및 기술 서비스업 (M)\n",
        "9. 유틸리티 [Utilities] = 공공 행정, 국방 및 사회보장 행정 (O), 국제 및 외국기관 (U)\n",
        "10. 부동산 [Estate] = 사업시설 관리, 사업 지원 및 임대 서비스업 (N) / 부동산업 (L)\n",
        "11. 커뮤니케이션 서비스 [Communication] = \n",
        "---"
      ],
      "metadata": {
        "id": "fClOEa89XOIn"
      }
    },
    {
      "cell_type": "code",
      "source": [
        "##### 약 11분 소요 #####\n",
        "\n",
        "dataset = finance[['사업자번호','결산년월','휴폐업이력']]\n",
        "\n",
        "dataset['파일분류'] = None\n",
        "dataset['표준산업분류'] = None\n",
        "\n",
        "for i in range(len(dataset)):\n",
        "  if dataset['사업자번호'][i] in data['사업자등록번호'].tolist() :\n",
        "    dataset['파일분류'][i] = data[(data['사업자등록번호'] == dataset['사업자번호'][i])]['파일분류'].item()\n",
        "    dataset['표준산업분류'][i] = data[(data['사업자등록번호'] == dataset['사업자번호'][i])]['표준산업분류'].item()"
      ],
      "metadata": {
        "id": "Kc-aClliQt3n"
      },
      "execution_count": 7,
      "outputs": []
    },
    {
      "cell_type": "code",
      "source": [
        "finance['결산년월'].value_counts()"
      ],
      "metadata": {
        "colab": {
          "base_uri": "https://localhost:8080/"
        },
        "id": "kj4OBuEYZgm-",
        "outputId": "990052ab-754e-4055-f752-74191b7c2c4d"
      },
      "execution_count": 8,
      "outputs": [
        {
          "output_type": "execute_result",
          "data": {
            "text/plain": [
              "20181231    29700\n",
              "20191231    26360\n",
              "20211231    24583\n",
              "20201231    24498\n",
              "Name: 결산년월, dtype: int64"
            ]
          },
          "metadata": {},
          "execution_count": 8
        }
      ]
    },
    {
      "cell_type": "markdown",
      "source": [
        "---\n",
        "### 0-2. 결산년월의 표기를 년도로만 표시\n",
        "----"
      ],
      "metadata": {
        "id": "TCEc48vCZK9k"
      }
    },
    {
      "cell_type": "code",
      "source": [
        "for i in range(len(dataset)):\n",
        "  if dataset['결산년월'][i] == '20181231':\n",
        "    dataset['결산년월'][i] = '2018'\n",
        "  elif dataset['결산년월'][i] == '20191231':\n",
        "    dataset['결산년월'][i] = '2019'\n",
        "  elif dataset['결산년월'][i] == '20201231':\n",
        "    dataset['결산년월'][i] = '2020'\n",
        "  else:\n",
        "    dataset['결산년월'][i] = '2021'"
      ],
      "metadata": {
        "id": "TT9SWNBqZO6l"
      },
      "execution_count": 9,
      "outputs": []
    },
    {
      "cell_type": "markdown",
      "source": [
        "---\n",
        "# 1. 재무데이터를 활용한 DCF 기업가치\n",
        "---"
      ],
      "metadata": {
        "id": "Pbbpf3IkhALS"
      }
    },
    {
      "cell_type": "markdown",
      "source": [
        "    세후영업이익(NOPLAT) -> EBIT(영업이익) - TAX(법인세 비용)\n",
        "    - 운전자본비용(NWC) -> 매출채권 + 재고자산 - 매입채무\n",
        "    + 비현금비용(감가상각비)\n",
        "    - 자본적 지출(CAPEX) -> 비유동자산\n",
        "    ------------------------------------------------------------\n",
        "    FCFF"
      ],
      "metadata": {
        "id": "dCqhdHhPha89"
      }
    },
    {
      "cell_type": "markdown",
      "source": [
        "- finance 데이터를 기반으로 dataset을 형성 했기 때문에 \"기업가치\"에 관련된 값을 concat 해주겠다."
      ],
      "metadata": {
        "id": "JMQlgJ9DT6hb"
      }
    },
    {
      "cell_type": "code",
      "source": [
        "dataset = pd.concat([dataset,finance['기업가치']], axis = 1)\n",
        "dataset.isnull().sum()"
      ],
      "metadata": {
        "colab": {
          "base_uri": "https://localhost:8080/"
        },
        "id": "G_w5I3NtUFbQ",
        "outputId": "fd5f800e-c2a1-4f9c-91ec-4007b11603de"
      },
      "execution_count": 10,
      "outputs": [
        {
          "output_type": "execute_result",
          "data": {
            "text/plain": [
              "사업자번호         0\n",
              "결산년월          0\n",
              "휴폐업이력     98306\n",
              "파일분류          0\n",
              "표준산업분류      181\n",
              "기업가치      57246\n",
              "dtype: int64"
            ]
          },
          "metadata": {},
          "execution_count": 10
        }
      ]
    },
    {
      "cell_type": "markdown",
      "source": [
        "----\n",
        "# 2. 특허 출원 여부 및 출원 수\n",
        "----"
      ],
      "metadata": {
        "id": "jqLHqmgwiLIQ"
      }
    },
    {
      "cell_type": "code",
      "source": [],
      "metadata": {
        "id": "_sgu3M82h3AY"
      },
      "execution_count": 10,
      "outputs": []
    },
    {
      "cell_type": "markdown",
      "source": [
        "---\n",
        "# 3. 섹터별 주가 현황 데이터\n",
        "---"
      ],
      "metadata": {
        "id": "dFThK-hyiZXx"
      }
    },
    {
      "cell_type": "code",
      "source": [],
      "metadata": {
        "id": "kV8Z84L5ibZv"
      },
      "execution_count": 10,
      "outputs": []
    },
    {
      "cell_type": "markdown",
      "source": [
        "---\n",
        "# 4. 기업시장지수\n",
        "---"
      ],
      "metadata": {
        "id": "l6EtWBbTib2x"
      }
    },
    {
      "cell_type": "code",
      "source": [],
      "metadata": {
        "id": "VXT3muFWqe_6"
      },
      "execution_count": 10,
      "outputs": []
    },
    {
      "cell_type": "markdown",
      "source": [
        "---\n",
        "# 5. 기업할당지수\n",
        "----"
      ],
      "metadata": {
        "id": "L2vioM3JqfS7"
      }
    },
    {
      "cell_type": "markdown",
      "source": [
        "- 매출액과 자산총계 추가"
      ],
      "metadata": {
        "id": "APonV444W_X3"
      }
    },
    {
      "cell_type": "code",
      "source": [
        "# 기존 재무데이터의 매출액 합치기\n",
        "dataset = pd.concat([dataset,finance[['매출액','자산총계','영업이익（손실）','당기순이익(손실)']]], axis = 1)\n",
        "\n",
        "# 데이터 타입 변환\n",
        "dataset[['매출액','기업가치','자산총계','영업이익（손실）','당기순이익(손실)']] = dataset[['매출액','기업가치','자산총계','영업이익（손실）','당기순이익(손실)']].fillna(0).astype(int).replace({0:None})"
      ],
      "metadata": {
        "id": "QxjJdlDbW6aS"
      },
      "execution_count": 11,
      "outputs": []
    },
    {
      "cell_type": "markdown",
      "source": [
        "- 년도별 섹터분류 후 총 매출액의 합 계산"
      ],
      "metadata": {
        "id": "LsjFg1X2eikR"
      }
    },
    {
      "cell_type": "code",
      "source": [
        "##### 약 47분 소요 #####\n",
        "\n",
        "dataset['기업할당지수'] = None\n",
        "\n",
        "sector = dataset.groupby(['결산년월','표준산업분류'])['매출액'].sum()['2018'].to_dict().keys()\n",
        "\n",
        "for i in range(len(dataset)):\n",
        "  for j in sector:\n",
        "    try:\n",
        "      if (dataset['결산년월'][i] == '2018') & (dataset['표준산업분류'][i] == j) :\n",
        "        values = dataset.groupby(['결산년월','표준산업분류'])['매출액'].sum()['2018'].to_dict()\n",
        "        dataset['기업할당지수'][i] = (dataset['매출액'][i] / values[j]) * 100\n",
        "\n",
        "      elif (dataset['결산년월'][i] == '2019') & (dataset['표준산업분류'][i] == j) :\n",
        "        values = dataset.groupby(['결산년월','표준산업분류'])['매출액'].sum()['2019'].to_dict()\n",
        "        dataset['기업할당지수'][i] = (dataset['매출액'][i] / values[j]) * 100\n",
        "\n",
        "      elif (dataset['결산년월'][i] == '2020') & (dataset['표준산업분류'][i] == j) :\n",
        "        values = dataset.groupby(['결산년월','표준산업분류'])['매출액'].sum()['2020'].to_dict()\n",
        "        dataset['기업할당지수'][i] = (dataset['매출액'][i] / values[j]) * 100\n",
        "\n",
        "      elif (dataset['결산년월'][i] == '2021') & (dataset['표준산업분류'][i] == j) :\n",
        "        values = dataset.groupby(['결산년월','표준산업분류'])['매출액'].sum()['2021'].to_dict()\n",
        "        dataset['기업할당지수'][i] = (dataset['매출액'][i] / values[j])* 100\n",
        "    except:\n",
        "      pass "
      ],
      "metadata": {
        "id": "eK8Cjly6xg9G"
      },
      "execution_count": 12,
      "outputs": []
    },
    {
      "cell_type": "code",
      "source": [
        "dataset[(dataset['표준산업분류'] == 'Estate') & (dataset['결산년월'] == '2019')]['기업할당지수'].sum()"
      ],
      "metadata": {
        "colab": {
          "base_uri": "https://localhost:8080/"
        },
        "id": "8X0MyarTdXlq",
        "outputId": "94917fb6-ef5a-4098-c0a9-4a757c266c62"
      },
      "execution_count": 13,
      "outputs": [
        {
          "output_type": "execute_result",
          "data": {
            "text/plain": [
              "100.00000000000003"
            ]
          },
          "metadata": {},
          "execution_count": 13
        }
      ]
    },
    {
      "cell_type": "markdown",
      "source": [
        "---\n",
        "# 6. 기업 성장률 지표\n",
        "---"
      ],
      "metadata": {
        "id": "LkoTbw18DweO"
      }
    },
    {
      "cell_type": "markdown",
      "source": [
        "---\n",
        "### 6-1 연평균 성장률 (CAGR)\n",
        "---\n",
        "\n",
        "- (최신연도 매출액/설립연도 매출액)^(1/(최신연도-설립연도))-1"
      ],
      "metadata": {
        "id": "NbO66sWGD0Rk"
      }
    },
    {
      "cell_type": "code",
      "source": [
        "# 기존 재무데이터에서 만들어 놓은 매출액 성장률 합치기\n",
        "dataset = pd.concat([dataset,finance['매출액성장률']], axis = 1)\n",
        "dataset.isnull().sum()"
      ],
      "metadata": {
        "id": "o49Kx6P-Dzfd",
        "colab": {
          "base_uri": "https://localhost:8080/"
        },
        "outputId": "43435e6e-3bb0-44eb-95ae-ccdbcc094cf6"
      },
      "execution_count": 14,
      "outputs": [
        {
          "output_type": "execute_result",
          "data": {
            "text/plain": [
              "사업자번호         0\n",
              "결산년월          0\n",
              "휴폐업이력     98306\n",
              "파일분류          0\n",
              "표준산업분류      181\n",
              "기업가치      57246\n",
              "매출액        5222\n",
              "자산총계        808\n",
              "기업할당지수     5394\n",
              "매출액성장률    38444\n",
              "dtype: int64"
            ]
          },
          "metadata": {},
          "execution_count": 14
        }
      ]
    },
    {
      "cell_type": "markdown",
      "source": [
        "---\n",
        "### 6-2 기업 안정성 평가\n",
        "---\n",
        "\n",
        "- **매출 성장률** = (당해년도 매출액 / 직전년도 매출액) x 100 - 100\n",
        "- **총자산 성장률** = (당해년도 총자산 / 직전년도 총자산) x 100 - 100"
      ],
      "metadata": {
        "id": "mGIsPKHzRqkK"
      }
    },
    {
      "cell_type": "code",
      "source": [
        "############ 사업자번호가 중복되는 값의 인덱스를 변환하기 위한 코드 ############\n",
        "\n",
        "# 사업자번호의 중복값의 시작값은 True\n",
        "a = dataset['사업자번호'].duplicated()\n",
        "\n",
        "# 사업자번호 전체 인덱스 값 생성\n",
        "b = list(range(len(a)))\n",
        "\n",
        "for i in range(len(a)):\n",
        "  if a[i] == True: # True 라는 것은 사업자번호가 중복되는 값의 시작점이며 다음 False가 나올기 전 까지 중복된 값임\n",
        "    b.remove(i)\n",
        "\n",
        "print('재무제표 전체 데이터 수:',len(dataset))\n",
        "print('중복을 제외한 사업자번호 수:',len(b))"
      ],
      "metadata": {
        "colab": {
          "base_uri": "https://localhost:8080/"
        },
        "id": "4R5xl3B8THZx",
        "outputId": "67e0fc48-a2f6-4ef8-f1fb-b26fe186bccd"
      },
      "execution_count": 15,
      "outputs": [
        {
          "output_type": "stream",
          "name": "stdout",
          "text": [
            "재무제표 전체 데이터 수: 105141\n",
            "중복을 제외한 사업자번호 수: 34751\n"
          ]
        }
      ]
    },
    {
      "cell_type": "code",
      "source": [
        "##### 약 1분 소요 #####\n",
        "\n",
        "dataset['매출 성장률'] = None\n",
        "\n",
        "for i in range(len(b)):\n",
        "  num = b[i]\n",
        "  if num == 105137 :\n",
        "    num2 = 105141\n",
        "  else: \n",
        "    num2 = b[i+1]\n",
        "  count = num2 - num\n",
        "\n",
        "  for j in range(count):\n",
        "    try:\n",
        "      if j+1 != count:\n",
        "        dataset['매출 성장률'][num + j + 1] = round(((dataset['매출액'][num + j + 1] - dataset['매출액'][num + j]) / dataset['매출액'][num + j]) * 100 ,3)\n",
        "      else :\n",
        "        pass\n",
        "    except:\n",
        "      pass"
      ],
      "metadata": {
        "id": "R_ETlUrETUx2"
      },
      "execution_count": 16,
      "outputs": []
    },
    {
      "cell_type": "code",
      "source": [
        "##### 약 1분 소요 #####\n",
        "\n",
        "dataset['총자산 성장률'] = None\n",
        "\n",
        "for i in range(len(b)):\n",
        "  num = b[i]\n",
        "  if num == 105137 :\n",
        "    num2 = 105141\n",
        "  else: \n",
        "    num2 = b[i+1]\n",
        "  count = num2 - num\n",
        "\n",
        "  for j in range(count):\n",
        "    try:\n",
        "      if j+1 != count:\n",
        "        dataset['총자산 성장률'][num + j + 1] = round(((dataset['자산총계'][num + j + 1] - dataset['자산총계'][num + j]) / dataset['자산총계'][num + j]) * 100 ,3)\n",
        "      else :\n",
        "        pass\n",
        "    except:\n",
        "      pass"
      ],
      "metadata": {
        "id": "_o7EC6cOa8uh"
      },
      "execution_count": 17,
      "outputs": []
    },
    {
      "cell_type": "markdown",
      "source": [
        "---\n",
        "# 7. 기업의 존속기간별 구간\n",
        "---"
      ],
      "metadata": {
        "id": "bGjnRq3oD-Gn"
      }
    },
    {
      "cell_type": "markdown",
      "source": [
        "- 9 = 1년 이하 \n",
        "- 8 = 1년 ~ 2년 \n",
        "- 7 = 2년 ~ 3년 \n",
        "- 6 = 3년 ~ 4년 \n",
        "- 5 = 4년 ~ 5년 \n",
        "- 4 = 5년 ~ 7년 \n",
        "- 3 = 7년 ~ 10년 \n",
        "- 2 = 10년 ~ 15년 \n",
        "- 1 = 15년 ~ 20년 \n",
        "- 0 = 20년 이상 \n",
        "\n"
      ],
      "metadata": {
        "id": "_rchod36y9UR"
      }
    },
    {
      "cell_type": "code",
      "source": [
        "##### 약 9분 소요 #####\n",
        "\n",
        "dataset['존속기간'] = None\n",
        "\n",
        "for i in range(len(dataset)):\n",
        "  if dataset['사업자번호'][i] in data['사업자등록번호'].tolist() :\n",
        "    dataset['존속기간'][i] = data[(data['사업자등록번호'] == dataset['사업자번호'][i])]['존속기간'].item()\n",
        "\n",
        "# 데이터 타입 변환\n",
        "dataset['존속기간'] = dataset['존속기간'].fillna(0).astype(int).replace({0:None})"
      ],
      "metadata": {
        "id": "61-I0tIIgwT2"
      },
      "execution_count": 18,
      "outputs": []
    },
    {
      "cell_type": "code",
      "source": [
        "##### 약 1분 소요 #####\n",
        "\n",
        "for i in range(len(dataset)):\n",
        "  try:\n",
        "    if dataset['결산년월'][i] == \"2020\":\n",
        "      dataset['존속기간'][i] = dataset['존속기간'][i] - 300\n",
        "    elif dataset['결산년월'][i] == \"2019\":\n",
        "      dataset['존속기간'][i] = dataset['존속기간'][i] - 665\n",
        "    elif dataset['결산년월'][i] == \"2018\":\n",
        "      dataset['존속기간'][i] = dataset['존속기간'][i] - 1030\n",
        "  except:\n",
        "    pass "
      ],
      "metadata": {
        "id": "RNxh3wTRPhsD"
      },
      "execution_count": 26,
      "outputs": []
    },
    {
      "cell_type": "code",
      "source": [
        "index = dataset[dataset['존속기간'] <= 365].index\n",
        "dataset['존속기간'][index] = 9\n",
        "    \n",
        "index = dataset[(dataset['존속기간'] > 365) & (dataset['존속기간'] <= 730)].index\n",
        "dataset['존속기간'][index] = 8\n",
        "\n",
        "index = dataset[(dataset['존속기간'] > 730) & (dataset['존속기간'] <= 1095)].index\n",
        "dataset['존속기간'][index] = 7\n",
        "\n",
        "index = dataset[(dataset['존속기간'] > 1095) & (dataset['존속기간'] <= 1460)].index\n",
        "dataset['존속기간'][index] = 6\n",
        "\n",
        "index = dataset[(dataset['존속기간'] > 1460) & (dataset['존속기간'] <= 1825)].index\n",
        "dataset['존속기간'][index] = 5\n",
        "\n",
        "index = dataset[(dataset['존속기간'] > 1825) & (dataset['존속기간'] <= 2555)].index\n",
        "dataset['존속기간'][index] = 4\n",
        "\n",
        "index = dataset[(dataset['존속기간'] > 2555) & (dataset['존속기간'] <= 3650)].index\n",
        "dataset['존속기간'][index] = 3\n",
        "\n",
        "index = dataset[(dataset['존속기간'] > 3650) & (dataset['존속기간'] <= 5475)].index\n",
        "dataset['존속기간'][index] = 2\n",
        "\n",
        "index = dataset[(dataset['존속기간'] > 5475) & (dataset['존속기간'] <= 7300)].index\n",
        "dataset['존속기간'][index] = 1\n",
        "\n",
        "index = dataset[(dataset['존속기간'] > 7300)].index\n",
        "dataset['존속기간'][index] = 0"
      ],
      "metadata": {
        "id": "VH3wNjACyhUt"
      },
      "execution_count": 195,
      "outputs": []
    },
    {
      "cell_type": "code",
      "source": [
        "dataset.isnull().sum()"
      ],
      "metadata": {
        "colab": {
          "base_uri": "https://localhost:8080/"
        },
        "id": "yHvz8okZUncY",
        "outputId": "8b37333b-b074-446f-ace0-b98c8fb42846"
      },
      "execution_count": 162,
      "outputs": [
        {
          "output_type": "execute_result",
          "data": {
            "text/plain": [
              "사업자번호            0\n",
              "결산년월             0\n",
              "휴폐업이력            0\n",
              "파일분류             0\n",
              "표준산업분류         181\n",
              "기업가치         57246\n",
              "매출액           5222\n",
              "자산총계           808\n",
              "기업할당지수        5394\n",
              "매출액성장률       38444\n",
              "매출 성장률       38712\n",
              "총자산 성장률      35317\n",
              "존속기간          1855\n",
              "영업이익（손실）       910\n",
              "당기순이익(손실)      866\n",
              "dtype: int64"
            ]
          },
          "metadata": {},
          "execution_count": 162
        }
      ]
    },
    {
      "cell_type": "markdown",
      "source": [
        "---\n",
        "# 8. Target값 생성\n",
        "----"
      ],
      "metadata": {
        "id": "kRPCZC2xxe8s"
      }
    },
    {
      "cell_type": "code",
      "source": [
        "dataset['휴폐업이력'] = 0\n",
        "\n",
        "check = data_history[(data_history['CLSBZ_GB'] == 2) | (data_history['CLSBZ_GB'] == 3)]\n",
        "check = check.reset_index(drop = True)\n",
        "\n",
        "for i in range(len(check)):\n",
        "  if check['BIZ_NO'][i] in dataset['사업자번호'].tolist():\n",
        "    if (type(check['STRT_DATE'][i]) == str) == False:\n",
        "      if check['END_DATE'][i][:4] == '2019' :\n",
        "        number = dataset[(dataset['사업자번호'] == check['BIZ_NO'][i]) & (dataset['결산년월'] == '2018')].index\n",
        "        dataset['휴폐업이력'][number] = 1\n",
        "      \n",
        "      elif check['END_DATE'][i][:4] == '2020' :\n",
        "        number = dataset[(dataset['사업자번호'] == check['BIZ_NO'][i]) & (dataset['결산년월'] == '2019')].index\n",
        "        dataset['휴폐업이력'][number] = 1\n",
        "      \n",
        "      elif check['END_DATE'][i][:4] == '2021' :\n",
        "        number = dataset[(dataset['사업자번호'] == check['BIZ_NO'][i]) & (dataset['결산년월'] == '2020')].index\n",
        "        dataset['휴폐업이력'][number] = 1\n",
        "      elif check['END_DATE'][i][:4] == '2022' :\n",
        "        number = dataset[(dataset['사업자번호'] == check['BIZ_NO'][i]) & (dataset['결산년월'] == '2021')].index\n",
        "        dataset['휴폐업이력'][number] = 1             \n",
        "    \n",
        "    else :\n",
        "      if check['STRT_DATE'][i][:4] == '2019' :\n",
        "        number = dataset[(dataset['사업자번호'] == check['BIZ_NO'][i]) & (dataset['결산년월'] == '2018')].index\n",
        "        dataset['휴폐업이력'][number] = 1\n",
        "      \n",
        "      elif check['STRT_DATE'][i][:4] == '2020' :\n",
        "        number = dataset[(dataset['사업자번호'] == check['BIZ_NO'][i]) & (dataset['결산년월'] == '2019')].index\n",
        "        dataset['휴폐업이력'][number] = 1\n",
        "      \n",
        "      elif check['STRT_DATE'][i][:4] == '2021' :\n",
        "        number = dataset[(dataset['사업자번호'] == check['BIZ_NO'][i]) & (dataset['결산년월'] == '2020')].index\n",
        "        dataset['휴폐업이력'][number] = 1\n",
        "      elif check['STRT_DATE'][i][:4] == '2022' :\n",
        "        number = dataset[(dataset['사업자번호'] == check['BIZ_NO'][i]) & (dataset['결산년월'] == '2021')].index\n",
        "        dataset['휴폐업이력'][number] = 1           "
      ],
      "metadata": {
        "id": "FeEOTIfta-oR"
      },
      "execution_count": 157,
      "outputs": []
    },
    {
      "cell_type": "code",
      "source": [],
      "metadata": {
        "id": "jl-SxlfWx0yD"
      },
      "execution_count": null,
      "outputs": []
    }
  ]
}