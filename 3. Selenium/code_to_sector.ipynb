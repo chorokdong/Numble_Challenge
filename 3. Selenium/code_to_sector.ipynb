{
 "cells": [
  {
   "cell_type": "markdown",
   "metadata": {},
   "source": [
    "---\n",
    "# csv\n",
    "---"
   ]
  },
  {
   "cell_type": "code",
   "execution_count": 21,
   "metadata": {},
   "outputs": [],
   "source": [
    "import pandas as pd \n",
    "import numpy as np"
   ]
  },
  {
   "cell_type": "code",
   "execution_count": 10,
   "metadata": {},
   "outputs": [
    {
     "data": {
      "text/html": [
       "<div>\n",
       "<style scoped>\n",
       "    .dataframe tbody tr th:only-of-type {\n",
       "        vertical-align: middle;\n",
       "    }\n",
       "\n",
       "    .dataframe tbody tr th {\n",
       "        vertical-align: top;\n",
       "    }\n",
       "\n",
       "    .dataframe thead th {\n",
       "        text-align: right;\n",
       "    }\n",
       "</style>\n",
       "<table border=\"1\" class=\"dataframe\">\n",
       "  <thead>\n",
       "    <tr style=\"text-align: right;\">\n",
       "      <th></th>\n",
       "      <th>code</th>\n",
       "      <th>sector</th>\n",
       "    </tr>\n",
       "  </thead>\n",
       "  <tbody>\n",
       "    <tr>\n",
       "      <th>0</th>\n",
       "      <td>017960</td>\n",
       "      <td>NaN</td>\n",
       "    </tr>\n",
       "    <tr>\n",
       "      <th>1</th>\n",
       "      <td>005380</td>\n",
       "      <td>NaN</td>\n",
       "    </tr>\n",
       "    <tr>\n",
       "      <th>2</th>\n",
       "      <td>380440</td>\n",
       "      <td>NaN</td>\n",
       "    </tr>\n",
       "    <tr>\n",
       "      <th>3</th>\n",
       "      <td>001680</td>\n",
       "      <td>NaN</td>\n",
       "    </tr>\n",
       "    <tr>\n",
       "      <th>4</th>\n",
       "      <td>004920</td>\n",
       "      <td>NaN</td>\n",
       "    </tr>\n",
       "    <tr>\n",
       "      <th>...</th>\n",
       "      <td>...</td>\n",
       "      <td>...</td>\n",
       "    </tr>\n",
       "    <tr>\n",
       "      <th>2418</th>\n",
       "      <td>151910</td>\n",
       "      <td>NaN</td>\n",
       "    </tr>\n",
       "    <tr>\n",
       "      <th>2419</th>\n",
       "      <td>123410</td>\n",
       "      <td>NaN</td>\n",
       "    </tr>\n",
       "    <tr>\n",
       "      <th>2420</th>\n",
       "      <td>347890</td>\n",
       "      <td>NaN</td>\n",
       "    </tr>\n",
       "    <tr>\n",
       "      <th>2421</th>\n",
       "      <td>023410</td>\n",
       "      <td>NaN</td>\n",
       "    </tr>\n",
       "    <tr>\n",
       "      <th>2422</th>\n",
       "      <td>075130</td>\n",
       "      <td>NaN</td>\n",
       "    </tr>\n",
       "  </tbody>\n",
       "</table>\n",
       "<p>2423 rows × 2 columns</p>\n",
       "</div>"
      ],
      "text/plain": [
       "        code  sector\n",
       "0     017960     NaN\n",
       "1     005380     NaN\n",
       "2     380440     NaN\n",
       "3     001680     NaN\n",
       "4     004920     NaN\n",
       "...      ...     ...\n",
       "2418  151910     NaN\n",
       "2419  123410     NaN\n",
       "2420  347890     NaN\n",
       "2421  023410     NaN\n",
       "2422  075130     NaN\n",
       "\n",
       "[2423 rows x 2 columns]"
      ]
     },
     "execution_count": 10,
     "metadata": {},
     "output_type": "execute_result"
    }
   ],
   "source": [
    "df = pd.read_csv('/Users/keonkookkim/Desktop/KKK/5. Numble_Challenge/3. Selenium/selenium_code_sector.csv')\n",
    "del df['Unnamed: 0']\n",
    "df['code'] = df['code'].astype(str)\n",
    "df['code'] = df['code'].apply(lambda x : x.zfill(6))\n",
    "df"
   ]
  },
  {
   "cell_type": "markdown",
   "metadata": {},
   "source": [
    "---\n",
    "# selenium\n",
    "---"
   ]
  },
  {
   "cell_type": "code",
   "execution_count": 2,
   "metadata": {},
   "outputs": [
    {
     "name": "stdout",
     "output_type": "stream",
     "text": [
      "/Users/keonkookkim/Documents\n"
     ]
    }
   ],
   "source": [
    "cd /Users/keonkookkim/Documents"
   ]
  },
  {
   "cell_type": "code",
   "execution_count": 3,
   "metadata": {},
   "outputs": [
    {
     "name": "stdout",
     "output_type": "stream",
     "text": [
      "xattr: chromedriver: No such xattr: com.apple.quarantine\n"
     ]
    }
   ],
   "source": [
    "!xattr -d com.apple.quarantine chromedriver # 맥에서 크롬 브라우저 허용하는 코드 "
   ]
  },
  {
   "cell_type": "code",
   "execution_count": 4,
   "metadata": {},
   "outputs": [],
   "source": [
    "from selenium import webdriver\n",
    "import time\n",
    "from selenium.webdriver.common.keys import Keys # enter 치는 명령어\n",
    "import csv "
   ]
  },
  {
   "cell_type": "code",
   "execution_count": 33,
   "metadata": {},
   "outputs": [],
   "source": [
    "# 브라우저 생성 \n",
    "browser = webdriver.Chrome('/Users/keonkookkim/Documents/chromedriver')\n",
    "\n",
    "# 웹 사이트 열기 \n",
    "browser.get('https://finance.naver.com/')"
   ]
  },
  {
   "cell_type": "code",
   "execution_count": 7,
   "metadata": {},
   "outputs": [],
   "source": [
    "def sector_collect(code):\n",
    "    # 검색창 클릭\n",
    "    search = browser.find_element_by_xpath('//*[@id=\"stock_items\"]')\n",
    "    search.click()\n",
    "    time.sleep(0.5)\n",
    "    # 검색어 입력\n",
    "    search.send_keys(code)\n",
    "    search.send_keys(Keys.ENTER)\n",
    "    time.sleep(8)\n",
    "    # 종목분석 클릭\n",
    "    search = browser.find_element_by_xpath('//*[@id=\"content\"]/ul/li[6]/a/span')\n",
    "    search.click()\n",
    "    # iframe 선택 = 페이지 안의 페이지 요소\n",
    "    browser.switch_to.frame('coinfo_cp')\n",
    "    time.sleep(1)\n",
    "    sector = browser.find_element_by_xpath('//*[@id=\"pArea\"]/div[1]/div/table/tbody/tr[1]/td/dl/dt[4]').text\n",
    "    browser.switch_to.parent_frame()\n",
    "    time.sleep(1)\n",
    "    return sector[7:]"
   ]
  },
  {
   "cell_type": "code",
   "execution_count": 41,
   "metadata": {},
   "outputs": [],
   "source": [
    "for i in range(len(df)):\n",
    "    if pd.isna(df['sector'][i]):\n",
    "        name = sector_collect(df['code'][i])\n",
    "        df['sector'][i] = name\n"
   ]
  },
  {
   "cell_type": "code",
   "execution_count": 46,
   "metadata": {},
   "outputs": [],
   "source": [
    "df.to_csv('/Users/keonkookkim/Desktop/KKK/5. Numble_Challenge/3. Selenium/selenium_working.csv')"
   ]
  },
  {
   "cell_type": "code",
   "execution_count": null,
   "metadata": {},
   "outputs": [],
   "source": []
  }
 ],
 "metadata": {
  "kernelspec": {
   "display_name": "Python 3.8.13 ('aiffel')",
   "language": "python",
   "name": "python3"
  },
  "language_info": {
   "codemirror_mode": {
    "name": "ipython",
    "version": 3
   },
   "file_extension": ".py",
   "mimetype": "text/x-python",
   "name": "python",
   "nbconvert_exporter": "python",
   "pygments_lexer": "ipython3",
   "version": "3.8.13"
  },
  "orig_nbformat": 4,
  "vscode": {
   "interpreter": {
    "hash": "e9a93df3c6ee637a5c9e5012002eebd98bbe9b6c4c84f21152ae4734d6474e33"
   }
  }
 },
 "nbformat": 4,
 "nbformat_minor": 2
}
